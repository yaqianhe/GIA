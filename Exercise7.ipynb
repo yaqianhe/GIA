{
  "nbformat": 4,
  "nbformat_minor": 0,
  "metadata": {
    "colab": {
      "name": "Exercise7.ipynb",
      "provenance": [],
      "collapsed_sections": [],
      "authorship_tag": "ABX9TyM5zW4Y1hpVaoG6qGeSVeyy",
      "include_colab_link": true
    },
    "kernelspec": {
      "name": "python3",
      "display_name": "Python 3"
    }
  },
  "cells": [
    {
      "cell_type": "markdown",
      "metadata": {
        "id": "view-in-github",
        "colab_type": "text"
      },
      "source": [
        "<a href=\"https://colab.research.google.com/github/yaqianhe/GIA/blob/main/Exercise7.ipynb\" target=\"_parent\"><img src=\"https://colab.research.google.com/assets/colab-badge.svg\" alt=\"Open In Colab\"/></a>"
      ]
    },
    {
      "cell_type": "markdown",
      "metadata": {
        "id": "IIUbLNMw2Zeg"
      },
      "source": [
        "## Exercise 7\r\n",
        "There is a list representing the scores for ten students. Plot the scores for third and seventh students. The list is [80,70,79,83,90,91,88,78,94,95]. Note, the index for Python starts from 0."
      ]
    },
    {
      "cell_type": "code",
      "metadata": {
        "colab": {
          "base_uri": "https://localhost:8080/"
        },
        "id": "y6X2o1de3Aiz",
        "outputId": "258a938a-2aca-4bc5-87f3-44aa2a550800"
      },
      "source": [
        "# (1) This is the example code, you need to modify the variable name for your own\r\n",
        "# (2) You also want to define the variable name as mnemonic variable\r\n",
        "\r\n",
        "x=[80,70,79,83,90,91,88,78,94,95] #define a variable to store the list\r\n",
        "print(x[2:7]) #the third to seveth students is corresponding to index 2 to 7. Note, the second number (i.e.,7) is up to but not including."
      ],
      "execution_count": 3,
      "outputs": [
        {
          "output_type": "stream",
          "text": [
            "[79, 83, 90, 91, 88]\n"
          ],
          "name": "stdout"
        }
      ]
    }
  ]
}