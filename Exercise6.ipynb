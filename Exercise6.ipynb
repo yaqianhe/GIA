{
  "nbformat": 4,
  "nbformat_minor": 0,
  "metadata": {
    "colab": {
      "name": "Exercise6.ipynb",
      "provenance": [],
      "collapsed_sections": [],
      "authorship_tag": "ABX9TyNqacfI1XkzJDAkmfXwesFf",
      "include_colab_link": true
    },
    "kernelspec": {
      "name": "python3",
      "display_name": "Python 3"
    }
  },
  "cells": [
    {
      "cell_type": "markdown",
      "metadata": {
        "id": "view-in-github",
        "colab_type": "text"
      },
      "source": [
        "<a href=\"https://colab.research.google.com/github/yaqianhe/GIA/blob/main/Exercise6.ipynb\" target=\"_parent\"><img src=\"https://colab.research.google.com/assets/colab-badge.svg\" alt=\"Open In Colab\"/></a>"
      ]
    },
    {
      "cell_type": "markdown",
      "metadata": {
        "id": "EVK2BaBnyozg"
      },
      "source": [
        "## Exercise 6\r\n",
        "There is a string containing names for different university. The string is 'UALittleRockUCAUTTexasAM'"
      ]
    },
    {
      "cell_type": "code",
      "metadata": {
        "colab": {
          "base_uri": "https://localhost:8080/"
        },
        "id": "Xyaf5pWx0CJK",
        "outputId": "1a91012c-f154-46e4-adcb-a9591615006b"
      },
      "source": [
        "# (1) This is the example code, you need to modify the variable name for your own\r\n",
        "# (2) You also want to define the variable name as mnemonic variable\r\n",
        "\r\n",
        "x='UALittleRockUCAUTTexasAM' #define a variable to store the string\r\n",
        "y=x.find('UCA') #use the in-built function 'find' to find the location of 'UCA' in the string\r\n",
        "print(y) #Note, the 'find' fuction only finds the start postion of 'UCA'."
      ],
      "execution_count": 2,
      "outputs": [
        {
          "output_type": "stream",
          "text": [
            "12\n"
          ],
          "name": "stdout"
        }
      ]
    }
  ]
}