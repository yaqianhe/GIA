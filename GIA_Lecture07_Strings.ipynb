{
  "nbformat": 4,
  "nbformat_minor": 0,
  "metadata": {
    "colab": {
      "name": "GIA_Lecture07: Strings.ipynb",
      "provenance": [],
      "collapsed_sections": [],
      "authorship_tag": "ABX9TyM1hPQ+WjpCnANPC+YktUVm",
      "include_colab_link": true
    },
    "kernelspec": {
      "name": "python3",
      "display_name": "Python 3"
    }
  },
  "cells": [
    {
      "cell_type": "markdown",
      "metadata": {
        "id": "view-in-github",
        "colab_type": "text"
      },
      "source": [
        "<a href=\"https://colab.research.google.com/github/yaqianhe/GIA/blob/main/GIA_Lecture07_Strings.ipynb\" target=\"_parent\"><img src=\"https://colab.research.google.com/assets/colab-badge.svg\" alt=\"Open In Colab\"/></a>"
      ]
    },
    {
      "cell_type": "markdown",
      "metadata": {
        "id": "k5lfIk0z7imq"
      },
      "source": [
        "##Lecture 7: Strings\n",
        "##Yaqian He\n",
        "##Department of Geography\n",
        "##University of Central Arkansas\n"
      ]
    },
    {
      "cell_type": "markdown",
      "metadata": {
        "id": "VsneQyXFFrhl"
      },
      "source": [
        "##1. String Data Type\n",
        "- A string is a sequence of characters/letters\n",
        "- A string literal uses quotes '' or \"\"\n",
        "- For strings, **+** means 'concatenate'\n",
        "- When a string contains numbers, it is still a string\n",
        "- We can convert numbers in a string into a number using **int()**\n"
      ]
    },
    {
      "cell_type": "code",
      "metadata": {
        "id": "8_wVrDoM7h8I",
        "colab": {
          "base_uri": "https://localhost:8080/"
        },
        "outputId": "43afd08c-edd8-4dd5-d16d-a7f4968fb2ef"
      },
      "source": [
        "#Example 1\n",
        "str1 = 'Hello'\n",
        "str2 = ' GIA'\n",
        "print(str1+str2)"
      ],
      "execution_count": null,
      "outputs": [
        {
          "output_type": "stream",
          "name": "stdout",
          "text": [
            "Hello GIA\n"
          ]
        }
      ]
    },
    {
      "cell_type": "code",
      "metadata": {
        "id": "rDVlcRfJYfVs",
        "colab": {
          "base_uri": "https://localhost:8080/"
        },
        "outputId": "dc4415c6-cd93-4025-d278-1fa9f9889081"
      },
      "source": [
        "#Example 2\n",
        "str3 = '123'\n",
        "x = int(str3) + 1\n",
        "print(x)\n",
        "\n",
        "print(int(str3))\n",
        "123+1"
      ],
      "execution_count": null,
      "outputs": [
        {
          "output_type": "stream",
          "name": "stdout",
          "text": [
            "124\n",
            "123\n"
          ]
        },
        {
          "output_type": "execute_result",
          "data": {
            "text/plain": [
              "124"
            ]
          },
          "metadata": {},
          "execution_count": 2
        }
      ]
    },
    {
      "cell_type": "markdown",
      "metadata": {
        "id": "A6FE9PZlLqba"
      },
      "source": [
        "##2. Reading and Converting\n",
        "- We prefer to read data in using **strings** and then parse and convert the data as we need\n",
        "-This gives us more control over error situations and/or bad user input\n",
        "-Input numbers must be **converted** from strings"
      ]
    },
    {
      "cell_type": "code",
      "metadata": {
        "id": "vFUqlqB8Mz8o",
        "colab": {
          "base_uri": "https://localhost:8080/"
        },
        "outputId": "36682833-843a-41a2-9a9d-a6c4cfbf966f"
      },
      "source": [
        "#Example 1\n",
        "name = input('Enter:')\n",
        "print(name)\n",
        "type(name)"
      ],
      "execution_count": null,
      "outputs": [
        {
          "output_type": "stream",
          "name": "stdout",
          "text": [
            "Enter:1235\n",
            "1235\n"
          ]
        },
        {
          "output_type": "execute_result",
          "data": {
            "text/plain": [
              "str"
            ]
          },
          "metadata": {},
          "execution_count": 4
        }
      ]
    },
    {
      "cell_type": "markdown",
      "metadata": {
        "id": "FBhQ10OJN-UD"
      },
      "source": [
        "##3. Looking Inside Strings\n",
        "- We can get any single character/ letter in a string using an index specified in **sqaure brackets**\n",
        "-The index value must be an integer and starts at zero\n",
        "-The index value can be an expression that is computed\n",
        "\n",
        "\n",
        "![picture](https://drive.google.com/uc?export=view&id=1JBOn4Y0KAb9FjDBBj998S6U3ffBwppWC)\n",
        "\n",
        "(Reference:http://www.dr-chuck.com/)\n"
      ]
    },
    {
      "cell_type": "code",
      "metadata": {
        "id": "HrJl3Pi0PPXW",
        "colab": {
          "base_uri": "https://localhost:8080/"
        },
        "outputId": "bc3a6fd1-6b5c-4d47-c165-40c3c2d22e61"
      },
      "source": [
        "#Example 1\n",
        "fruit = 'banana'\n",
        "letter = fruit[0]\n",
        "print(letter)\n"
      ],
      "execution_count": null,
      "outputs": [
        {
          "output_type": "stream",
          "name": "stdout",
          "text": [
            "b\n"
          ]
        }
      ]
    },
    {
      "cell_type": "code",
      "metadata": {
        "id": "LQQq4tfuPzde",
        "colab": {
          "base_uri": "https://localhost:8080/"
        },
        "outputId": "71000586-caf0-4225-9d1a-eaf552f88f62"
      },
      "source": [
        "#Example 2\n",
        "fruit = 'banana'\n",
        "letter = fruit[5]\n",
        "print(letter)"
      ],
      "execution_count": null,
      "outputs": [
        {
          "output_type": "stream",
          "name": "stdout",
          "text": [
            "a\n"
          ]
        }
      ]
    },
    {
      "cell_type": "code",
      "metadata": {
        "id": "6kuiOk2sP7bw",
        "colab": {
          "base_uri": "https://localhost:8080/",
          "height": 217
        },
        "outputId": "1ec3615a-287d-40e2-837c-28cee7816f07"
      },
      "source": [
        "#Example 3\n",
        "fruit = 'banana'\n",
        "letter = fruit[6]\n",
        "print(letter)"
      ],
      "execution_count": null,
      "outputs": [
        {
          "output_type": "error",
          "ename": "IndexError",
          "evalue": "ignored",
          "traceback": [
            "\u001b[0;31m---------------------------------------------------------------------------\u001b[0m",
            "\u001b[0;31mIndexError\u001b[0m                                Traceback (most recent call last)",
            "\u001b[0;32m<ipython-input-7-9df09adae632>\u001b[0m in \u001b[0;36m<module>\u001b[0;34m()\u001b[0m\n\u001b[1;32m      1\u001b[0m \u001b[0;31m#Example 3\u001b[0m\u001b[0;34m\u001b[0m\u001b[0;34m\u001b[0m\u001b[0;34m\u001b[0m\u001b[0m\n\u001b[1;32m      2\u001b[0m \u001b[0mfruit\u001b[0m \u001b[0;34m=\u001b[0m \u001b[0;34m'banana'\u001b[0m\u001b[0;34m\u001b[0m\u001b[0;34m\u001b[0m\u001b[0m\n\u001b[0;32m----> 3\u001b[0;31m \u001b[0mletter\u001b[0m \u001b[0;34m=\u001b[0m \u001b[0mfruit\u001b[0m\u001b[0;34m[\u001b[0m\u001b[0;36m6\u001b[0m\u001b[0;34m]\u001b[0m\u001b[0;34m\u001b[0m\u001b[0;34m\u001b[0m\u001b[0m\n\u001b[0m\u001b[1;32m      4\u001b[0m \u001b[0mprint\u001b[0m\u001b[0;34m(\u001b[0m\u001b[0mletter\u001b[0m\u001b[0;34m)\u001b[0m\u001b[0;34m\u001b[0m\u001b[0;34m\u001b[0m\u001b[0m\n",
            "\u001b[0;31mIndexError\u001b[0m: string index out of range"
          ]
        }
      ]
    },
    {
      "cell_type": "markdown",
      "metadata": {
        "id": "9sXiLbZRRHvS"
      },
      "source": [
        "- You will get a **python error** if you attempt to index beyongd the end of a string\n",
        "- So be careful when constructing index values"
      ]
    },
    {
      "cell_type": "markdown",
      "metadata": {
        "id": "uj2mA4Tko4-X"
      },
      "source": [
        "- The **colon operator** is used to slice a string\n",
        "- The second number is one beyond the end of the slice - **up to but not including**\n",
        "- If the second number is beyond the end of the string, it stops at the end"
      ]
    },
    {
      "cell_type": "code",
      "metadata": {
        "id": "Q9Iyi94cQDDi",
        "colab": {
          "base_uri": "https://localhost:8080/"
        },
        "outputId": "257358b8-96f6-463c-edb3-c8e79de864c0"
      },
      "source": [
        "#Example 1\n",
        "fruit = 'banana'\n",
        "letter = fruit[0:3]\n",
        "print(letter)"
      ],
      "execution_count": null,
      "outputs": [
        {
          "output_type": "stream",
          "name": "stdout",
          "text": [
            "ban\n"
          ]
        }
      ]
    },
    {
      "cell_type": "code",
      "metadata": {
        "id": "Kn-xE87iQ9cm",
        "colab": {
          "base_uri": "https://localhost:8080/"
        },
        "outputId": "d45b4252-cf0b-4d52-fb7a-caeaaac8d062"
      },
      "source": [
        "#Example 2\n",
        "fruit = 'banana'\n",
        "letter = fruit[3:4]\n",
        "print(letter)"
      ],
      "execution_count": null,
      "outputs": [
        {
          "output_type": "stream",
          "name": "stdout",
          "text": [
            "a\n"
          ]
        }
      ]
    },
    {
      "cell_type": "code",
      "metadata": {
        "id": "pEo8yC-lWT9g",
        "colab": {
          "base_uri": "https://localhost:8080/"
        },
        "outputId": "effbde52-c010-4795-9055-dc46e2b5f3fe"
      },
      "source": [
        "#Example 3\n",
        "fruit = 'banana'\n",
        "letter = fruit[3:7]\n",
        "print(letter)"
      ],
      "execution_count": null,
      "outputs": [
        {
          "output_type": "stream",
          "name": "stdout",
          "text": [
            "ana\n"
          ]
        }
      ]
    },
    {
      "cell_type": "code",
      "metadata": {
        "id": "ErY5RFRWWjQ_",
        "colab": {
          "base_uri": "https://localhost:8080/"
        },
        "outputId": "e55dcdc0-95b4-4ffd-e30a-58e90c1591d3"
      },
      "source": [
        "#Example 4\n",
        "fruit = 'banana'\n",
        "letter = fruit[:]\n",
        "print(letter)"
      ],
      "execution_count": null,
      "outputs": [
        {
          "output_type": "stream",
          "name": "stdout",
          "text": [
            "banana\n"
          ]
        }
      ]
    },
    {
      "cell_type": "markdown",
      "metadata": {
        "id": "nl9OosbBRjkX"
      },
      "source": [
        "##4. String Have Length\n",
        "-The built-in function **len** gives us the length of a string"
      ]
    },
    {
      "cell_type": "code",
      "metadata": {
        "id": "Vm6CZTflR5Eg",
        "colab": {
          "base_uri": "https://localhost:8080/"
        },
        "outputId": "272f4536-050f-4f57-972d-6ee902be7d2b"
      },
      "source": [
        "#Example 1\n",
        "fruit = 'banana'\n",
        "stringlength = len(fruit)\n",
        "print(stringlength)"
      ],
      "execution_count": null,
      "outputs": [
        {
          "output_type": "stream",
          "name": "stdout",
          "text": [
            "6\n"
          ]
        }
      ]
    },
    {
      "cell_type": "markdown",
      "metadata": {
        "id": "i-9FcOTqS8qg"
      },
      "source": [
        "##5. Looping Through Strings\n",
        "- Using a **while** and **for** statement and **iteration variable**, and the **len** function, we can construct a loop to look at each of the letters in string individually."
      ]
    },
    {
      "cell_type": "code",
      "metadata": {
        "id": "bvlQB_SdTjjT",
        "colab": {
          "base_uri": "https://localhost:8080/"
        },
        "outputId": "2d9bb05b-e640-4a6a-c8a7-932bbb3eedc4"
      },
      "source": [
        "#Example 1\n",
        "fruit = 'banana'\n",
        "index = 0\n",
        "while index < len(fruit):\n",
        "  letter = fruit[index]\n",
        "  print(index, letter)\n",
        "  index = index + 1"
      ],
      "execution_count": null,
      "outputs": [
        {
          "output_type": "stream",
          "name": "stdout",
          "text": [
            "0 b\n",
            "1 a\n",
            "2 n\n",
            "3 a\n",
            "4 n\n",
            "5 a\n"
          ]
        }
      ]
    },
    {
      "cell_type": "code",
      "metadata": {
        "id": "NoieTieeT2yS",
        "colab": {
          "base_uri": "https://localhost:8080/"
        },
        "outputId": "b518d798-d7a6-42ec-a1be-230f7830b61f"
      },
      "source": [
        "#Example 2\n",
        "fruit = 'banana'\n",
        "for letter in fruit:\n",
        "  print(letter)"
      ],
      "execution_count": null,
      "outputs": [
        {
          "output_type": "stream",
          "name": "stdout",
          "text": [
            "b\n",
            "a\n",
            "n\n",
            "a\n",
            "n\n",
            "a\n"
          ]
        }
      ]
    },
    {
      "cell_type": "code",
      "metadata": {
        "id": "Y5pFtlHdUMAw",
        "colab": {
          "base_uri": "https://localhost:8080/"
        },
        "outputId": "908b2e9f-9951-4853-9bfb-801a091d559b"
      },
      "source": [
        "#Example 3\n",
        "fruit = 'banana'\n",
        "count = 0\n",
        "for letter in fruit:\n",
        "  if letter == 'a':\n",
        "    count = count + 1\n",
        "print(count)"
      ],
      "execution_count": null,
      "outputs": [
        {
          "output_type": "stream",
          "name": "stdout",
          "text": [
            "3\n"
          ]
        }
      ]
    },
    {
      "cell_type": "code",
      "metadata": {
        "id": "7nsjYXo1U7Op",
        "colab": {
          "base_uri": "https://localhost:8080/"
        },
        "outputId": "912f4fdc-3450-4d0b-c8b3-687eba4c6550"
      },
      "source": [
        "#Example 4\n",
        "fruit = ['banana','apple']\n",
        "count = 0\n",
        "for letter in fruit:\n",
        "  print(letter)\n",
        "  if letter == 'a':\n",
        "    count = count + 1\n",
        "print(count)"
      ],
      "execution_count": null,
      "outputs": [
        {
          "output_type": "stream",
          "name": "stdout",
          "text": [
            "banana\n",
            "apple\n",
            "0\n"
          ]
        }
      ]
    },
    {
      "cell_type": "markdown",
      "metadata": {
        "id": "GGmOVqt9aijU"
      },
      "source": [
        "##6. More String Operations\n",
        "## 6.1 Using in as a Logical Operator\n",
        "- The **in** keyword can also be used to check to see if one string is 'in' another string\n",
        "- The **in** expression is a logical expression that returns **True** or **False** and can be used in an **if** statement"
      ]
    },
    {
      "cell_type": "code",
      "metadata": {
        "id": "PqpSiJwsbE2N",
        "colab": {
          "base_uri": "https://localhost:8080/"
        },
        "outputId": "ce8df06b-4cb3-486d-d53a-fe9db42464f5"
      },
      "source": [
        "#Example 1\n",
        "fruit = 'banana'\n",
        "'f' in fruit"
      ],
      "execution_count": null,
      "outputs": [
        {
          "output_type": "execute_result",
          "data": {
            "text/plain": [
              "False"
            ]
          },
          "metadata": {},
          "execution_count": 6
        }
      ]
    },
    {
      "cell_type": "code",
      "metadata": {
        "id": "MeC98zLFcFIP",
        "colab": {
          "base_uri": "https://localhost:8080/"
        },
        "outputId": "c0365802-fe0f-4432-9636-40f7542f9e09"
      },
      "source": [
        "#Example 2\n",
        "fruit = 'banana'\n",
        "if 'n' in fruit:\n",
        "  print('Found it!')"
      ],
      "execution_count": null,
      "outputs": [
        {
          "output_type": "stream",
          "name": "stdout",
          "text": [
            "Found it!\n"
          ]
        }
      ]
    },
    {
      "cell_type": "markdown",
      "metadata": {
        "id": "_Uk7DIFOcuSP"
      },
      "source": [
        "##6.2 String Comparison"
      ]
    },
    {
      "cell_type": "code",
      "metadata": {
        "id": "jcn1vKQbcxqs",
        "colab": {
          "base_uri": "https://localhost:8080/"
        },
        "outputId": "625e4047-58cf-401d-eca1-5a121b6750f0"
      },
      "source": [
        "word = 'apple'\n",
        "if word < 'banana':\n",
        "  print('Your word,' + word + ', comes before banana.')\n",
        "elif word > 'banana':\n",
        "  print('Your word,' + word + ', comes after banana.')\n",
        "else:\n",
        "  print('All right, bananas.')"
      ],
      "execution_count": null,
      "outputs": [
        {
          "output_type": "stream",
          "name": "stdout",
          "text": [
            "Your word,apple, comes before banana.\n"
          ]
        }
      ]
    },
    {
      "cell_type": "markdown",
      "metadata": {
        "id": "IDr9vpBpdfSo"
      },
      "source": [
        "## 6.3 String Library\n",
        "- Python has a number of string **functions** which are in the **string library**\n",
        "- These **functions** are already **built into** every string- we invoke them by appending the function to the string variable\n",
        "- Theses **functions** do not modify the original string, instead they return a new string that has been altered"
      ]
    },
    {
      "cell_type": "code",
      "metadata": {
        "id": "FLMBoCxud8Hu",
        "colab": {
          "base_uri": "https://localhost:8080/"
        },
        "outputId": "a3334d98-7913-47e5-a46a-d5593190165d"
      },
      "source": [
        "#Example 1\n",
        "great = 'HELLO GIA'\n",
        "smaller = great.lower()\n",
        "print(smaller)\n"
      ],
      "execution_count": null,
      "outputs": [
        {
          "output_type": "stream",
          "name": "stdout",
          "text": [
            "hello gia\n"
          ]
        }
      ]
    },
    {
      "cell_type": "code",
      "metadata": {
        "id": "ySpugOoeeTUf",
        "colab": {
          "base_uri": "https://localhost:8080/"
        },
        "outputId": "04f5112a-8fc2-4d3d-d18d-21651daa0827"
      },
      "source": [
        "#Example 1\n",
        "great = 'HELLo GIA'\n",
        "bigger = great.upper()\n",
        "print(bigger)"
      ],
      "execution_count": null,
      "outputs": [
        {
          "output_type": "stream",
          "name": "stdout",
          "text": [
            "HELLO GIA\n"
          ]
        }
      ]
    },
    {
      "cell_type": "code",
      "metadata": {
        "id": "JtHSUx6mezDv"
      },
      "source": [
        "dir(great)"
      ],
      "execution_count": null,
      "outputs": []
    },
    {
      "cell_type": "markdown",
      "metadata": {
        "id": "bzdCkSLzfLeS"
      },
      "source": [
        "https://docs.python.org/3/library/stdtypes.html#string-methods"
      ]
    },
    {
      "cell_type": "markdown",
      "metadata": {
        "id": "Y25rkvIMfUXt"
      },
      "source": [
        "##6.4 Searching a String\n",
        "- We use the **find()** function to search for a substring within another string\n",
        "- **find()** finds the first occurrence of the substring\n",
        "- If the substring is not found, **find()** returns -1\n",
        "- **Remember** that string position starts at zero"
      ]
    },
    {
      "cell_type": "code",
      "metadata": {
        "id": "eZwgUrVZho33",
        "colab": {
          "base_uri": "https://localhost:8080/"
        },
        "outputId": "77691b32-cbc0-4bff-dea1-1a606921ceef"
      },
      "source": [
        "#Example 1\n",
        "fruit = 'banana'\n",
        "pos = fruit.find('na')\n",
        "print(pos)"
      ],
      "execution_count": null,
      "outputs": [
        {
          "output_type": "stream",
          "name": "stdout",
          "text": [
            "2\n"
          ]
        }
      ]
    },
    {
      "cell_type": "code",
      "metadata": {
        "id": "SzTs_61giLZJ",
        "colab": {
          "base_uri": "https://localhost:8080/"
        },
        "outputId": "b6434354-c629-44a9-cac8-4a3a62b44d78"
      },
      "source": [
        "#Example 2\n",
        "fruit = 'banana'\n",
        "pos = fruit.find('z')\n",
        "print(pos)"
      ],
      "execution_count": null,
      "outputs": [
        {
          "output_type": "stream",
          "name": "stdout",
          "text": [
            "-1\n"
          ]
        }
      ]
    },
    {
      "cell_type": "markdown",
      "metadata": {
        "id": "PQdeCZdbn7FY"
      },
      "source": [
        "##6.5 Searching and Replacing\n",
        "- The **replace()** function is like a 'search and replace' operation in a word processor\n",
        "- It replaces **all occurences** of the **search string** with the **replacement string**"
      ]
    },
    {
      "cell_type": "code",
      "metadata": {
        "id": "WPxqQXH5rdas",
        "colab": {
          "base_uri": "https://localhost:8080/"
        },
        "outputId": "7a570450-8c87-43fd-8dc8-28304151f7a8"
      },
      "source": [
        "#Example 1\n",
        "old = 'Hello GIA'\n",
        "new = old.replace('GIA', 'GIS')\n",
        "print(new)"
      ],
      "execution_count": null,
      "outputs": [
        {
          "output_type": "stream",
          "name": "stdout",
          "text": [
            "Hello GIS\n"
          ]
        }
      ]
    },
    {
      "cell_type": "code",
      "metadata": {
        "id": "oW02jze7ruja",
        "colab": {
          "base_uri": "https://localhost:8080/"
        },
        "outputId": "c31dd32c-cd11-4f20-a0f5-200ebeddc95d"
      },
      "source": [
        "#Example 2\n",
        "old = 'HeXXo GIA'\n",
        "new = old.replace('X', 'l')\n",
        "print(new)"
      ],
      "execution_count": null,
      "outputs": [
        {
          "output_type": "stream",
          "name": "stdout",
          "text": [
            "Hello GIA\n"
          ]
        }
      ]
    },
    {
      "cell_type": "code",
      "metadata": {
        "id": "UP02MiOYr-J2",
        "colab": {
          "base_uri": "https://localhost:8080/"
        },
        "outputId": "aec80cd6-70da-446e-bb2a-e01f4a0bfd91"
      },
      "source": [
        "#Example 3\n",
        "old = 'HeXXo GIA'\n",
        "new = old.replace('x', 'l')\n",
        "print(new)"
      ],
      "execution_count": null,
      "outputs": [
        {
          "output_type": "stream",
          "name": "stdout",
          "text": [
            "HeXXo GIA\n"
          ]
        }
      ]
    },
    {
      "cell_type": "markdown",
      "metadata": {
        "id": "QWNeDxWEsEDG"
      },
      "source": [
        "##6.6 Stripping Whitespace\n",
        "- Sometimes we want to take a string and remove whitespace at the begining and/or end\n",
        "- **Istrip()** and **rstrip()** remove whitespace at the left or right\n",
        "- **strip()** removes both beginning and ending whitespace"
      ]
    },
    {
      "cell_type": "code",
      "metadata": {
        "id": "KWhN7UsNsg1P",
        "colab": {
          "base_uri": "https://localhost:8080/"
        },
        "outputId": "363bcb80-661e-42a4-abf6-ce8fffdb85b7"
      },
      "source": [
        "#Example 1\n",
        "old = '  Hello GIA'\n",
        "new = old.lstrip()\n",
        "print(new)"
      ],
      "execution_count": null,
      "outputs": [
        {
          "output_type": "stream",
          "name": "stdout",
          "text": [
            "Hello GIA\n"
          ]
        }
      ]
    },
    {
      "cell_type": "code",
      "metadata": {
        "id": "oV6rQBRHs0nU",
        "colab": {
          "base_uri": "https://localhost:8080/"
        },
        "outputId": "1066072c-27f7-4b9b-d25b-357c1f305a53"
      },
      "source": [
        "#Example 1\n",
        "old = '  Hello GIA'\n",
        "new = old.rstrip()\n",
        "print(new)"
      ],
      "execution_count": null,
      "outputs": [
        {
          "output_type": "stream",
          "name": "stdout",
          "text": [
            "  Hello GIA\n"
          ]
        }
      ]
    },
    {
      "cell_type": "code",
      "metadata": {
        "id": "ohfoAWNss8gi",
        "colab": {
          "base_uri": "https://localhost:8080/"
        },
        "outputId": "24aae178-4dfa-4a4f-861b-66e29cad24b2"
      },
      "source": [
        "#Example 1\n",
        "old = '  Hello GIA '\n",
        "new = old.strip()\n",
        "print(new)"
      ],
      "execution_count": null,
      "outputs": [
        {
          "output_type": "stream",
          "name": "stdout",
          "text": [
            "Hello GIA\n"
          ]
        }
      ]
    },
    {
      "cell_type": "markdown",
      "metadata": {
        "id": "qrweRL9MuZ5v"
      },
      "source": [
        "##6.7 Parsing and Extracting\n",
        "From 'yhe@uca.edu Thur Feb' to extract domain\n"
      ]
    },
    {
      "cell_type": "code",
      "metadata": {
        "id": "Oa79-3jRuoPJ",
        "colab": {
          "base_uri": "https://localhost:8080/"
        },
        "outputId": "faa0a1f7-b6d6-4722-c3ab-2141e6ed41ab"
      },
      "source": [
        "#Example 1\n",
        "data = 'yhe@uca.edu Thur Feb'\n",
        "atpos = data.find('@')\n",
        "print(atpos)"
      ],
      "execution_count": null,
      "outputs": [
        {
          "output_type": "stream",
          "name": "stdout",
          "text": [
            "3\n"
          ]
        }
      ]
    },
    {
      "cell_type": "code",
      "metadata": {
        "id": "mCoxd8wevAte",
        "colab": {
          "base_uri": "https://localhost:8080/"
        },
        "outputId": "dbf84aab-e9b8-442c-94e2-915733918091"
      },
      "source": [
        "sppos = data.find(' ', atpos)\n",
        "print(sppos)"
      ],
      "execution_count": null,
      "outputs": [
        {
          "output_type": "stream",
          "name": "stdout",
          "text": [
            "11\n"
          ]
        }
      ]
    },
    {
      "cell_type": "code",
      "metadata": {
        "id": "gMpmwr_xvHaM",
        "colab": {
          "base_uri": "https://localhost:8080/"
        },
        "outputId": "0d396513-b71a-4834-de6a-b0fe478f116e"
      },
      "source": [
        "host = data[atpos+1:sppos]\n",
        "print(host)"
      ],
      "execution_count": null,
      "outputs": [
        {
          "output_type": "stream",
          "name": "stdout",
          "text": [
            "uca.edu\n"
          ]
        }
      ]
    },
    {
      "cell_type": "markdown",
      "metadata": {
        "id": "fZatPRMUvS7B"
      },
      "source": [
        "Reference: http://www.dr-chuck.com/"
      ]
    }
  ]
}