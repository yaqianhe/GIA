{
  "nbformat": 4,
  "nbformat_minor": 0,
  "metadata": {
    "colab": {
      "name": "Lecture08: Lists.ipynb",
      "provenance": [],
      "collapsed_sections": [],
      "authorship_tag": "ABX9TyNkY9noeIM7lIUv3gN9O8R6",
      "include_colab_link": true
    },
    "kernelspec": {
      "name": "python3",
      "display_name": "Python 3"
    }
  },
  "cells": [
    {
      "cell_type": "markdown",
      "metadata": {
        "id": "view-in-github",
        "colab_type": "text"
      },
      "source": [
        "<a href=\"https://colab.research.google.com/github/yaqianhe/GIA/blob/main/Lecture08_Lists.ipynb\" target=\"_parent\"><img src=\"https://colab.research.google.com/assets/colab-badge.svg\" alt=\"Open In Colab\"/></a>"
      ]
    },
    {
      "cell_type": "markdown",
      "metadata": {
        "id": "8UDt-zpN33it"
      },
      "source": [
        "##Lecture 8: Lists\n",
        "##Yaqian He\n",
        "##Department of Geography\n",
        "##University of Central Arkansas\n"
      ]
    },
    {
      "cell_type": "markdown",
      "metadata": {
        "id": "KuPUvSMQ3_GL"
      },
      "source": [
        "##1. Lists\n",
        "A **List** is a kind of collection\n",
        "- A **collection** allows us to put many values in a single **\"variable\"**\n",
        "- A **collection** is nice because we can carry all many values around in one convenient package.\n"
      ]
    },
    {
      "cell_type": "code",
      "metadata": {
        "id": "KuTTipGY3ut3",
        "outputId": "b48e246f-7464-41a6-d760-eec3169765e7",
        "colab": {
          "base_uri": "https://localhost:8080/"
        }
      },
      "source": [
        "#Example 1\n",
        "friends = ['Josephy','Glenn','Sally']\n",
        "carryon = ['socks','shirt','perfume']\n",
        "mynumber = [10,30,50,70,80]\n",
        "print(mynumber)\n",
        "print(friends)\n",
        "print(carryon)\n"
      ],
      "execution_count": null,
      "outputs": [
        {
          "output_type": "stream",
          "name": "stdout",
          "text": [
            "[10, 30, 50, 70, 80]\n",
            "['Josephy', 'Glenn', 'Sally']\n",
            "['socks', 'shirt', 'perfume']\n"
          ]
        }
      ]
    },
    {
      "cell_type": "markdown",
      "metadata": {
        "id": "mIHIQBEZ6ErD"
      },
      "source": [
        "##2. List constant\n",
        "- **List** constants are surrounded by square brackets and the elements in the list are separated by commas\n",
        "- A **list** element can be any Python object - even another list\n",
        "- A **list** can be empty\n"
      ]
    },
    {
      "cell_type": "code",
      "metadata": {
        "id": "l11aX52s62K-",
        "colab": {
          "base_uri": "https://localhost:8080/"
        },
        "outputId": "f7605c98-6574-4430-963d-f73e439ad4b7"
      },
      "source": [
        "#Example 1\n",
        "x = ['red',24,76,80]\n",
        "print(x)"
      ],
      "execution_count": null,
      "outputs": [
        {
          "output_type": "stream",
          "name": "stdout",
          "text": [
            "['red', 24, 76, 80]\n"
          ]
        }
      ]
    },
    {
      "cell_type": "code",
      "metadata": {
        "id": "CxPRacgX7OzN",
        "colab": {
          "base_uri": "https://localhost:8080/"
        },
        "outputId": "79836964-5184-464c-a5f6-60fa77327a71"
      },
      "source": [
        "#Example 2\n",
        "x = [1, [5,6],7]\n",
        "print(x)"
      ],
      "execution_count": null,
      "outputs": [
        {
          "output_type": "stream",
          "name": "stdout",
          "text": [
            "[1, [5, 6], 7]\n"
          ]
        }
      ]
    },
    {
      "cell_type": "code",
      "metadata": {
        "id": "RuDMiaOQ7aCC",
        "colab": {
          "base_uri": "https://localhost:8080/"
        },
        "outputId": "222f7c3c-3b52-45d6-9bce-4513890727aa"
      },
      "source": [
        "#Example 3\n",
        "x = []\n",
        "print(x)"
      ],
      "execution_count": null,
      "outputs": [
        {
          "output_type": "stream",
          "name": "stdout",
          "text": [
            "[]\n"
          ]
        }
      ]
    },
    {
      "cell_type": "code",
      "metadata": {
        "id": "6w99mFXM7qq_",
        "colab": {
          "base_uri": "https://localhost:8080/"
        },
        "outputId": "2061a135-649c-4b34-b7e0-f9d6183eefc0"
      },
      "source": [
        "#Example 4\n",
        "for i in [5,4,3,2,1]:\n",
        "  print(i)\n",
        "print('Blastoff!')"
      ],
      "execution_count": null,
      "outputs": [
        {
          "output_type": "stream",
          "name": "stdout",
          "text": [
            "5\n",
            "4\n",
            "3\n",
            "2\n",
            "1\n",
            "Blastoff!\n"
          ]
        }
      ]
    },
    {
      "cell_type": "markdown",
      "metadata": {
        "id": "7PYrtf1T8J-D"
      },
      "source": [
        "##3. Looking Inside Lists\n",
        "Just like strings, we can get at any single element in a list using an index specified in **square brackets**"
      ]
    },
    {
      "cell_type": "code",
      "metadata": {
        "id": "DMff0Mb78vb-",
        "colab": {
          "base_uri": "https://localhost:8080/"
        },
        "outputId": "eb3cd49f-1456-496f-ee55-1103187d2573"
      },
      "source": [
        "#Example 1\n",
        "x = ['red',24,76,80]\n",
        "print(x[1])"
      ],
      "execution_count": null,
      "outputs": [
        {
          "output_type": "stream",
          "name": "stdout",
          "text": [
            "24\n"
          ]
        }
      ]
    },
    {
      "cell_type": "code",
      "metadata": {
        "id": "nhBtww6T843j",
        "colab": {
          "base_uri": "https://localhost:8080/"
        },
        "outputId": "9b15b714-bcda-47d4-ccde-7215a62758ee"
      },
      "source": [
        "#Example 2\n",
        "x = ['red',24,76,80]\n",
        "print(x[0])"
      ],
      "execution_count": null,
      "outputs": [
        {
          "output_type": "stream",
          "name": "stdout",
          "text": [
            "red\n"
          ]
        }
      ]
    },
    {
      "cell_type": "code",
      "metadata": {
        "id": "pEB03vOY8646",
        "colab": {
          "base_uri": "https://localhost:8080/"
        },
        "outputId": "6d2d9dc2-e80a-46b3-9189-2a6106609d53"
      },
      "source": [
        "#Example 3\n",
        "x = [1, [5,6,9,10,11],7]\n",
        "print(x[1])"
      ],
      "execution_count": null,
      "outputs": [
        {
          "output_type": "stream",
          "name": "stdout",
          "text": [
            "[5, 6, 9, 10, 11]\n"
          ]
        }
      ]
    },
    {
      "cell_type": "markdown",
      "metadata": {
        "id": "_XAGuhJ39QSR"
      },
      "source": [
        "##4. Lists are mutable\n",
        "- Strings are **\"immutable\"**- we cannot change the contents of a string- we must make a **new string** to make any change\n",
        "- Lists are **\"mutable\"**- we can change an element of a list using the **index** operator"
      ]
    },
    {
      "cell_type": "code",
      "metadata": {
        "id": "e-YyJdsj9xfI",
        "colab": {
          "base_uri": "https://localhost:8080/",
          "height": 200
        },
        "outputId": "fd791b51-5362-4c45-d805-13f3e8891611"
      },
      "source": [
        "#Example 1\n",
        "fruit = 'Banana'\n",
        "fruit[0] = 'b'"
      ],
      "execution_count": null,
      "outputs": [
        {
          "output_type": "error",
          "ename": "TypeError",
          "evalue": "ignored",
          "traceback": [
            "\u001b[0;31m---------------------------------------------------------------------------\u001b[0m",
            "\u001b[0;31mTypeError\u001b[0m                                 Traceback (most recent call last)",
            "\u001b[0;32m<ipython-input-9-f800a2f3a689>\u001b[0m in \u001b[0;36m<module>\u001b[0;34m()\u001b[0m\n\u001b[1;32m      1\u001b[0m \u001b[0;31m#Example 1\u001b[0m\u001b[0;34m\u001b[0m\u001b[0;34m\u001b[0m\u001b[0;34m\u001b[0m\u001b[0m\n\u001b[1;32m      2\u001b[0m \u001b[0mfruit\u001b[0m \u001b[0;34m=\u001b[0m \u001b[0;34m'Banana'\u001b[0m\u001b[0;34m\u001b[0m\u001b[0;34m\u001b[0m\u001b[0m\n\u001b[0;32m----> 3\u001b[0;31m \u001b[0mfruit\u001b[0m\u001b[0;34m[\u001b[0m\u001b[0;36m0\u001b[0m\u001b[0;34m]\u001b[0m \u001b[0;34m=\u001b[0m \u001b[0;34m'b'\u001b[0m\u001b[0;34m\u001b[0m\u001b[0;34m\u001b[0m\u001b[0m\n\u001b[0m",
            "\u001b[0;31mTypeError\u001b[0m: 'str' object does not support item assignment"
          ]
        }
      ]
    },
    {
      "cell_type": "code",
      "metadata": {
        "id": "bCpsoHtD95_-",
        "colab": {
          "base_uri": "https://localhost:8080/"
        },
        "outputId": "bd097002-e1d3-464f-b177-2bd96f326a16"
      },
      "source": [
        "#Example 2\n",
        "lotto = [2,14,26,41,63]\n",
        "print(lotto)\n",
        "\n",
        "lotto[0] = 23\n",
        "print(lotto)"
      ],
      "execution_count": null,
      "outputs": [
        {
          "output_type": "stream",
          "name": "stdout",
          "text": [
            "[2, 14, 26, 41, 63]\n",
            "[23, 14, 26, 41, 63]\n"
          ]
        }
      ]
    },
    {
      "cell_type": "markdown",
      "metadata": {
        "id": "ucIvbR0Y-jvu"
      },
      "source": [
        "##5. How long is a list?\n",
        "\n",
        "- As string, we can use **len()** function to calculate the size of a list\n",
        "- The **len()** function takes a **list** as a parameter and returns the number of **elements** in the **list** \n",
        "- Actually **len()** tells us the number of elements of any set or sequence (such as a string....)\n"
      ]
    },
    {
      "cell_type": "code",
      "metadata": {
        "id": "Hz1Geck5_rFO",
        "colab": {
          "base_uri": "https://localhost:8080/"
        },
        "outputId": "8c6a578d-4c4a-4f95-9be6-902620394cae"
      },
      "source": [
        "#Example 1\n",
        "great = 'Hello GIA'\n",
        "print(len(great))"
      ],
      "execution_count": null,
      "outputs": [
        {
          "output_type": "stream",
          "name": "stdout",
          "text": [
            "9\n"
          ]
        }
      ]
    },
    {
      "cell_type": "code",
      "metadata": {
        "id": "Ts8eUziD_40r",
        "colab": {
          "base_uri": "https://localhost:8080/"
        },
        "outputId": "7f71ee17-89a8-4a8c-e3c4-a41117aff21a"
      },
      "source": [
        "#Example 2\n",
        "great = ['Hello', 'GIA']\n",
        "print(len(great))"
      ],
      "execution_count": null,
      "outputs": [
        {
          "output_type": "stream",
          "name": "stdout",
          "text": [
            "2\n"
          ]
        }
      ]
    },
    {
      "cell_type": "markdown",
      "metadata": {
        "id": "iNcbiYz4AFmB"
      },
      "source": [
        "##6. More List Operations\n",
        "##6.1 range()\n",
        "range() returns an immutable sequence object of numbers depending upon the definitions used:\n",
        "\n",
        "**range(stop)**\n",
        "- Returns a sequence of numbers starting from 0 to stop - 1\n",
        "- Returns an empty sequence if stop is negative or 0.\n",
        "\n",
        "**range(start, stop, step)**\n",
        "\n",
        "We can construct an index loop using **for** and an integer **iterator**\n"
      ]
    },
    {
      "cell_type": "code",
      "metadata": {
        "id": "bxEYE305Amj0",
        "colab": {
          "base_uri": "https://localhost:8080/"
        },
        "outputId": "eaa65c95-1f53-43bd-ad73-eb2fa60f7c4f"
      },
      "source": [
        "#Example 1\n",
        "x = list(range(4))\n",
        "print(x)"
      ],
      "execution_count": null,
      "outputs": [
        {
          "output_type": "stream",
          "name": "stdout",
          "text": [
            "[0, 1, 2, 3]\n"
          ]
        }
      ]
    },
    {
      "cell_type": "code",
      "metadata": {
        "id": "F8X7KmbXDgSc",
        "colab": {
          "base_uri": "https://localhost:8080/"
        },
        "outputId": "77938a9a-76b0-4fbf-8984-bb43695c551e"
      },
      "source": [
        "#Example 2\n",
        "x = list(range(1900,2001,3))\n",
        "print(x)"
      ],
      "execution_count": null,
      "outputs": [
        {
          "output_type": "stream",
          "name": "stdout",
          "text": [
            "[1900, 1903, 1906, 1909, 1912, 1915, 1918, 1921, 1924, 1927, 1930, 1933, 1936, 1939, 1942, 1945, 1948, 1951, 1954, 1957, 1960, 1963, 1966, 1969, 1972, 1975, 1978, 1981, 1984, 1987, 1990, 1993, 1996, 1999]\n"
          ]
        }
      ]
    },
    {
      "cell_type": "code",
      "metadata": {
        "id": "_Gw8n0SWCsOj",
        "colab": {
          "base_uri": "https://localhost:8080/"
        },
        "outputId": "a4132427-53f9-419d-dcce-cdf2d386aa2f"
      },
      "source": [
        "#Example 3\n",
        "x = range(4)\n",
        "for i in x:\n",
        "  print(i)"
      ],
      "execution_count": null,
      "outputs": [
        {
          "output_type": "stream",
          "name": "stdout",
          "text": [
            "0\n",
            "1\n",
            "2\n",
            "3\n"
          ]
        }
      ]
    },
    {
      "cell_type": "code",
      "metadata": {
        "id": "0SwH7pS_Ef5N",
        "colab": {
          "base_uri": "https://localhost:8080/"
        },
        "outputId": "c268da93-4f44-4a1e-8a39-016c4d614f06"
      },
      "source": [
        "#Example 4\n",
        "x = [5,4,3,2,1]\n",
        "y = list(range(len(x)))\n",
        "print(y)"
      ],
      "execution_count": null,
      "outputs": [
        {
          "output_type": "stream",
          "name": "stdout",
          "text": [
            "[0, 1, 2, 3, 4]\n"
          ]
        }
      ]
    },
    {
      "cell_type": "code",
      "metadata": {
        "id": "OQD_mOfHENS0",
        "colab": {
          "base_uri": "https://localhost:8080/"
        },
        "outputId": "16f30cee-caa0-4d59-be81-01512cdf12c5"
      },
      "source": [
        "#Example 5\n",
        "x = [5,4,3,2,1]\n",
        "for i in range(len(x)):\n",
        "  print(x[i])\n",
        "print('Blastoff!')\n",
        "\n",
        "\n",
        "for i in [5,4,3,2,1]:\n",
        "  print(i)\n",
        "print('Blastoff!')"
      ],
      "execution_count": null,
      "outputs": [
        {
          "output_type": "stream",
          "name": "stdout",
          "text": [
            "5\n",
            "4\n",
            "3\n",
            "2\n",
            "1\n",
            "Blastoff!\n",
            "5\n",
            "4\n",
            "3\n",
            "2\n",
            "1\n",
            "Blastoff!\n"
          ]
        }
      ]
    },
    {
      "cell_type": "markdown",
      "metadata": {
        "id": "Gzci4k0MFCiL"
      },
      "source": [
        "##6.2 Concatenate\n",
        "We can create a new list by adding two existing lists together"
      ]
    },
    {
      "cell_type": "code",
      "metadata": {
        "id": "lkiEmbTVFNSQ",
        "colab": {
          "base_uri": "https://localhost:8080/"
        },
        "outputId": "5773f1b2-8746-4c0f-ae37-cb88a4017955"
      },
      "source": [
        "#Example 1\n",
        "a = [1,2,3]\n",
        "b = [4,5,6]\n",
        "c = a + b\n",
        "print(c)"
      ],
      "execution_count": null,
      "outputs": [
        {
          "output_type": "stream",
          "name": "stdout",
          "text": [
            "[1, 2, 3, 4, 5, 6]\n"
          ]
        }
      ]
    },
    {
      "cell_type": "markdown",
      "metadata": {
        "id": "PWKg9RoRFd1k"
      },
      "source": [
        "##6.3 Slice a list\n",
        "Like string, we can also slice a list. \n",
        "\n",
        "**Remember**, the second number is **\"up to but not including\"**"
      ]
    },
    {
      "cell_type": "code",
      "metadata": {
        "id": "q8DZku-yFuBN",
        "colab": {
          "base_uri": "https://localhost:8080/"
        },
        "outputId": "98ec881b-2e90-48d4-8134-4e2cbdd692ae"
      },
      "source": [
        "#Example 1\n",
        "x = [9,41,12,3,74,15]\n",
        "y = x[1:3]\n",
        "print(y)"
      ],
      "execution_count": null,
      "outputs": [
        {
          "output_type": "stream",
          "name": "stdout",
          "text": [
            "[41, 12]\n"
          ]
        }
      ]
    },
    {
      "cell_type": "code",
      "metadata": {
        "id": "TymyNuMtGGXQ",
        "colab": {
          "base_uri": "https://localhost:8080/"
        },
        "outputId": "d49ed44c-2e70-432d-f253-02b496a152cc"
      },
      "source": [
        "#Example 2\n",
        "x = [9,41,12,3,74,15]\n",
        "y = x[:]\n",
        "print(y)"
      ],
      "execution_count": null,
      "outputs": [
        {
          "output_type": "stream",
          "name": "stdout",
          "text": [
            "[9, 41, 12, 3, 74, 15]\n"
          ]
        }
      ]
    },
    {
      "cell_type": "code",
      "metadata": {
        "id": "XyVThfWdGL74",
        "colab": {
          "base_uri": "https://localhost:8080/"
        },
        "outputId": "27bb3854-60ab-4521-aed1-7afc4ff01180"
      },
      "source": [
        "#Example 3\n",
        "x = [9,41,12,3,74,15]\n",
        "y = x[2:]\n",
        "print(y)"
      ],
      "execution_count": null,
      "outputs": [
        {
          "output_type": "stream",
          "name": "stdout",
          "text": [
            "[12, 3, 74, 15]\n"
          ]
        }
      ]
    },
    {
      "cell_type": "markdown",
      "metadata": {
        "id": "Qz1A1EstGZWc"
      },
      "source": [
        "##6.4 List method\n",
        "Like string, there are some in-built function that can be applied to a list.\n",
        "\n",
        "You could refer to https://docs.python.org/3/tutorial/datastructures.html for more information"
      ]
    },
    {
      "cell_type": "code",
      "metadata": {
        "id": "hU5dSV5BGiF9",
        "colab": {
          "base_uri": "https://localhost:8080/"
        },
        "outputId": "34fe4583-777a-4dff-8e82-c46ada09821a"
      },
      "source": [
        "x = list()\n",
        "dir(x)"
      ],
      "execution_count": null,
      "outputs": [
        {
          "output_type": "execute_result",
          "data": {
            "text/plain": [
              "['__add__',\n",
              " '__class__',\n",
              " '__contains__',\n",
              " '__delattr__',\n",
              " '__delitem__',\n",
              " '__dir__',\n",
              " '__doc__',\n",
              " '__eq__',\n",
              " '__format__',\n",
              " '__ge__',\n",
              " '__getattribute__',\n",
              " '__getitem__',\n",
              " '__gt__',\n",
              " '__hash__',\n",
              " '__iadd__',\n",
              " '__imul__',\n",
              " '__init__',\n",
              " '__init_subclass__',\n",
              " '__iter__',\n",
              " '__le__',\n",
              " '__len__',\n",
              " '__lt__',\n",
              " '__mul__',\n",
              " '__ne__',\n",
              " '__new__',\n",
              " '__reduce__',\n",
              " '__reduce_ex__',\n",
              " '__repr__',\n",
              " '__reversed__',\n",
              " '__rmul__',\n",
              " '__setattr__',\n",
              " '__setitem__',\n",
              " '__sizeof__',\n",
              " '__str__',\n",
              " '__subclasshook__',\n",
              " 'append',\n",
              " 'clear',\n",
              " 'copy',\n",
              " 'count',\n",
              " 'extend',\n",
              " 'index',\n",
              " 'insert',\n",
              " 'pop',\n",
              " 'remove',\n",
              " 'reverse',\n",
              " 'sort']"
            ]
          },
          "metadata": {},
          "execution_count": 24
        }
      ]
    },
    {
      "cell_type": "markdown",
      "metadata": {
        "id": "W-Mt4KoRHJH-"
      },
      "source": [
        "##6.4.1 Build a list\n",
        "- We can create an empty **list** and then add elements using the **append** method\n",
        "- The **list** stays in order and new elements are **added** at the end of the **list**"
      ]
    },
    {
      "cell_type": "code",
      "metadata": {
        "id": "i93ddiv3Hg9B",
        "colab": {
          "base_uri": "https://localhost:8080/"
        },
        "outputId": "ea463e60-8073-4e24-926f-03d8b7aafd79"
      },
      "source": [
        "#Example 1\n",
        "stuff = list()\n",
        "stuff.append('book')\n",
        "stuff.append(99)\n",
        "stuff.append('GIA')\n",
        "print(stuff)"
      ],
      "execution_count": null,
      "outputs": [
        {
          "output_type": "stream",
          "name": "stdout",
          "text": [
            "['book', 99, 'GIA']\n"
          ]
        }
      ]
    },
    {
      "cell_type": "markdown",
      "metadata": {
        "id": "yU7WPqNgImQu"
      },
      "source": [
        "##6.4.2 Sort a list\n",
        "- A list can hold many items and keeps those items in the order until we do something to change the order\n",
        "- A **list** can be sorted (i.e., change its order)"
      ]
    },
    {
      "cell_type": "code",
      "metadata": {
        "id": "yYffM8vBI-KP",
        "colab": {
          "base_uri": "https://localhost:8080/"
        },
        "outputId": "55696e26-1e3f-4484-a78f-55b39305e56d"
      },
      "source": [
        "#Example 1\n",
        "x = [9,41,12,3,74,15]\n",
        "x.sort()\n",
        "print(x)"
      ],
      "execution_count": null,
      "outputs": [
        {
          "output_type": "stream",
          "name": "stdout",
          "text": [
            "[3, 9, 12, 15, 41, 74]\n"
          ]
        }
      ]
    },
    {
      "cell_type": "code",
      "metadata": {
        "id": "DLImgR_oJPJL",
        "colab": {
          "base_uri": "https://localhost:8080/"
        },
        "outputId": "729e785e-1783-4def-f1e9-461573949ff8"
      },
      "source": [
        "##Example 2\n",
        "friends = ['Josephy','Glenn','Sally']\n",
        "friends.sort()\n",
        "print(friends)"
      ],
      "execution_count": null,
      "outputs": [
        {
          "output_type": "stream",
          "name": "stdout",
          "text": [
            "['Glenn', 'Josephy', 'Sally']\n"
          ]
        }
      ]
    },
    {
      "cell_type": "markdown",
      "metadata": {
        "id": "F4VeG_atHzJO"
      },
      "source": [
        "##6.5 Is something in a list?\n",
        "- Like string, python provides two **operators** that let you check if an item is in a list\n",
        "- These are logical operators that return **True** or **False**\n",
        "- They do not modify the list\n",
        "\n"
      ]
    },
    {
      "cell_type": "code",
      "metadata": {
        "id": "NbAmIl4UILOD",
        "colab": {
          "base_uri": "https://localhost:8080/"
        },
        "outputId": "b40325a1-cc19-407e-acd1-4289c8acd160"
      },
      "source": [
        "#Example 1\n",
        "some = [1,9,21,10,16]\n",
        "9 in some"
      ],
      "execution_count": null,
      "outputs": [
        {
          "output_type": "execute_result",
          "data": {
            "text/plain": [
              "True"
            ]
          },
          "metadata": {},
          "execution_count": 28
        }
      ]
    },
    {
      "cell_type": "code",
      "metadata": {
        "id": "JsheyC5AIbSF",
        "colab": {
          "base_uri": "https://localhost:8080/"
        },
        "outputId": "5bb29359-b945-423f-f8f4-a4b6588f542b"
      },
      "source": [
        "15 in some"
      ],
      "execution_count": null,
      "outputs": [
        {
          "output_type": "execute_result",
          "data": {
            "text/plain": [
              "False"
            ]
          },
          "metadata": {},
          "execution_count": 29
        }
      ]
    },
    {
      "cell_type": "code",
      "metadata": {
        "id": "9SSBoE4AIchD",
        "colab": {
          "base_uri": "https://localhost:8080/"
        },
        "outputId": "4b23adc0-98c8-40c6-d57f-61cddf62825d"
      },
      "source": [
        "25 in some\n"
      ],
      "execution_count": null,
      "outputs": [
        {
          "output_type": "execute_result",
          "data": {
            "text/plain": [
              "False"
            ]
          },
          "metadata": {},
          "execution_count": 30
        }
      ]
    },
    {
      "cell_type": "code",
      "metadata": {
        "id": "5OhvfclpIddE",
        "colab": {
          "base_uri": "https://localhost:8080/"
        },
        "outputId": "6f01837b-e48c-42f9-9cf4-d34c6a1909f7"
      },
      "source": [
        "20 not in some"
      ],
      "execution_count": null,
      "outputs": [
        {
          "output_type": "execute_result",
          "data": {
            "text/plain": [
              "True"
            ]
          },
          "metadata": {},
          "execution_count": 31
        }
      ]
    },
    {
      "cell_type": "markdown",
      "metadata": {
        "id": "CEHj_ut7JyIG"
      },
      "source": [
        "There are other in-built functions, such as min(),max(),sum(), can be applied to a list."
      ]
    },
    {
      "cell_type": "markdown",
      "metadata": {
        "id": "s3zD3FmMKJNx"
      },
      "source": [
        "##6.6 Converting between string and list\n",
        "We can **Split()** to break a string into parts and produces a list of strings. "
      ]
    },
    {
      "cell_type": "code",
      "metadata": {
        "id": "zkc6SJ_iKW-N",
        "colab": {
          "base_uri": "https://localhost:8080/"
        },
        "outputId": "ec4b2c1f-c5ca-4a04-b2de-41c1de1bb3c4"
      },
      "source": [
        "#Example 1\n",
        "x = 'With three words'\n",
        "type(x)"
      ],
      "execution_count": null,
      "outputs": [
        {
          "output_type": "execute_result",
          "data": {
            "text/plain": [
              "str"
            ]
          },
          "metadata": {},
          "execution_count": 32
        }
      ]
    },
    {
      "cell_type": "code",
      "metadata": {
        "id": "BbYbE169KmWf",
        "colab": {
          "base_uri": "https://localhost:8080/"
        },
        "outputId": "09da16ad-ffc0-40c9-9c8e-c8ad65129fb9"
      },
      "source": [
        "y = x.split()\n",
        "type(y)"
      ],
      "execution_count": null,
      "outputs": [
        {
          "output_type": "execute_result",
          "data": {
            "text/plain": [
              "list"
            ]
          },
          "metadata": {},
          "execution_count": 33
        }
      ]
    },
    {
      "cell_type": "code",
      "metadata": {
        "id": "JvRVDpQTKnmj",
        "colab": {
          "base_uri": "https://localhost:8080/"
        },
        "outputId": "947af8f9-1fdf-4858-d666-6c2932f869f8"
      },
      "source": [
        "print(y)"
      ],
      "execution_count": null,
      "outputs": [
        {
          "output_type": "stream",
          "name": "stdout",
          "text": [
            "['With', 'three', 'words']\n"
          ]
        }
      ]
    },
    {
      "cell_type": "code",
      "metadata": {
        "id": "C0HEx7GxK3OO",
        "colab": {
          "base_uri": "https://localhost:8080/"
        },
        "outputId": "1f71ba80-c1d3-4a51-dba3-62075338e8e6"
      },
      "source": [
        "#Example 2\n",
        "x = 'Hello       GIA'\n",
        "y = x.split()\n",
        "print(y)"
      ],
      "execution_count": null,
      "outputs": [
        {
          "output_type": "stream",
          "name": "stdout",
          "text": [
            "['Hello', 'GIA']\n"
          ]
        }
      ]
    },
    {
      "cell_type": "markdown",
      "metadata": {
        "id": "Q3SJTIGLLDIQ"
      },
      "source": [
        "When you do not specify a **delimiter**, multiple spaces are treated like one delimiter.\n",
        "\n",
        "You can specify what **delimiter** character to use in the splitting."
      ]
    },
    {
      "cell_type": "code",
      "metadata": {
        "id": "mlbTmu6CLV_H",
        "colab": {
          "base_uri": "https://localhost:8080/"
        },
        "outputId": "f2010a81-51ba-4420-e6c2-acd71e931558"
      },
      "source": [
        "#Example 1\n",
        "x = 'Hello;GIA;2021;Spring'\n",
        "y = x.split()\n",
        "print(y)"
      ],
      "execution_count": null,
      "outputs": [
        {
          "output_type": "stream",
          "name": "stdout",
          "text": [
            "['Hello;GIA;2021;Spring']\n"
          ]
        }
      ]
    },
    {
      "cell_type": "code",
      "metadata": {
        "id": "oC6iR6mKLkhL",
        "colab": {
          "base_uri": "https://localhost:8080/"
        },
        "outputId": "30de04cc-facd-4cdd-ea16-2b6bce99a4ad"
      },
      "source": [
        "#Example 2\n",
        "x = 'Hello;GIA;2021;Spring'\n",
        "y = x.split(';')\n",
        "print(y)"
      ],
      "execution_count": null,
      "outputs": [
        {
          "output_type": "stream",
          "name": "stdout",
          "text": [
            "['Hello', 'GIA', '2021', 'Spring']\n"
          ]
        }
      ]
    },
    {
      "cell_type": "markdown",
      "metadata": {
        "id": "urfJlH1GptkW"
      },
      "source": [
        "Reference: http://www.dr-chuck.com/"
      ]
    },
    {
      "cell_type": "code",
      "source": [
        "# A note for difference between list and vector\n",
        "#Example 4\n",
        "import numpy as np\n",
        "x=[2,14,26,41,63]\n",
        "print(x)\n",
        "lotto = np.array(x) #convert list to a vector\n",
        "print(lotto)"
      ],
      "metadata": {
        "id": "pkJgjetqGYIO",
        "colab": {
          "base_uri": "https://localhost:8080/"
        },
        "outputId": "789dbcb0-5e79-4a79-ecbe-bc44a2752117"
      },
      "execution_count": null,
      "outputs": [
        {
          "output_type": "stream",
          "name": "stdout",
          "text": [
            "[2, 14, 26, 41, 63]\n",
            "[ 2 14 26 41 63]\n"
          ]
        }
      ]
    },
    {
      "cell_type": "code",
      "source": [
        "#Replace values larger than 26 with 26\n",
        "x[x>26]=26"
      ],
      "metadata": {
        "id": "J9AkR32NG1Hh",
        "colab": {
          "base_uri": "https://localhost:8080/",
          "height": 183
        },
        "outputId": "fec0de2c-8184-449b-b50e-7042ddfc03af"
      },
      "execution_count": null,
      "outputs": [
        {
          "output_type": "error",
          "ename": "TypeError",
          "evalue": "ignored",
          "traceback": [
            "\u001b[0;31m---------------------------------------------------------------------------\u001b[0m",
            "\u001b[0;31mTypeError\u001b[0m                                 Traceback (most recent call last)",
            "\u001b[0;32m<ipython-input-39-48230f7815ed>\u001b[0m in \u001b[0;36m<module>\u001b[0;34m()\u001b[0m\n\u001b[1;32m      1\u001b[0m \u001b[0;31m#Replace values larger than 26 with 26\u001b[0m\u001b[0;34m\u001b[0m\u001b[0;34m\u001b[0m\u001b[0;34m\u001b[0m\u001b[0m\n\u001b[0;32m----> 2\u001b[0;31m \u001b[0mx\u001b[0m\u001b[0;34m[\u001b[0m\u001b[0mx\u001b[0m\u001b[0;34m>\u001b[0m\u001b[0;36m26\u001b[0m\u001b[0;34m]\u001b[0m\u001b[0;34m=\u001b[0m\u001b[0;36m26\u001b[0m\u001b[0;34m\u001b[0m\u001b[0;34m\u001b[0m\u001b[0m\n\u001b[0m",
            "\u001b[0;31mTypeError\u001b[0m: '>' not supported between instances of 'list' and 'int'"
          ]
        }
      ]
    },
    {
      "cell_type": "code",
      "source": [
        "lotto[lotto>26]=26 #It is the easiest way\n",
        "print(lotto)"
      ],
      "metadata": {
        "id": "e-g5YmFqGun5",
        "colab": {
          "base_uri": "https://localhost:8080/"
        },
        "outputId": "164c7b52-b134-4c40-ba1d-1dcc0695268a"
      },
      "execution_count": null,
      "outputs": [
        {
          "output_type": "stream",
          "name": "stdout",
          "text": [
            "[ 2 14 26 26 26]\n"
          ]
        }
      ]
    }
  ]
}