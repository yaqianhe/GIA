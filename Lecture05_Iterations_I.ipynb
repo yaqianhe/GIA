{
  "nbformat": 4,
  "nbformat_minor": 0,
  "metadata": {
    "colab": {
      "name": "Lecture05: Iterations I.ipynb",
      "provenance": [],
      "collapsed_sections": [],
      "authorship_tag": "ABX9TyO+hfjNbwE7M0rC4Q/QOULx",
      "include_colab_link": true
    },
    "kernelspec": {
      "name": "python3",
      "display_name": "Python 3"
    }
  },
  "cells": [
    {
      "cell_type": "markdown",
      "metadata": {
        "id": "view-in-github",
        "colab_type": "text"
      },
      "source": [
        "<a href=\"https://colab.research.google.com/github/yaqianhe/GIA/blob/main/Lecture05_Iterations_I.ipynb\" target=\"_parent\"><img src=\"https://colab.research.google.com/assets/colab-badge.svg\" alt=\"Open In Colab\"/></a>"
      ]
    },
    {
      "cell_type": "markdown",
      "metadata": {
        "id": "iHS4KqIvUuzm"
      },
      "source": [
        "## Lecture 5: Iterations I \n",
        "## Yaqian He\n",
        "## Department of Geography\n",
        "## University of Central Arkansas\n"
      ]
    },
    {
      "cell_type": "markdown",
      "metadata": {
        "id": "1VS608a6qA-E"
      },
      "source": [
        "##1. Repeated steps\n",
        "We can use **while** or **for** to achieve repeated steps.\n",
        "\n",
        "![picture](https://drive.google.com/uc?export=view&id=1VTf7gBO4OsrL2cQw9nB5yRrkwUbRrD5p)\n",
        "\n",
        "(Reference:http://www.dr-chuck.com/)\n"
      ]
    },
    {
      "cell_type": "code",
      "metadata": {
        "id": "MgWAR8F8UuHO",
        "colab": {
          "base_uri": "https://localhost:8080/"
        },
        "outputId": "6c2a2bce-d96b-4452-f075-84f629ebf566"
      },
      "source": [
        "#Example 1\n",
        "n = 5\n",
        "while n > 0:\n",
        "  print(n)\n",
        "  n = n - 1\n",
        "print(\"Blastoff!\")\n",
        "print(n)"
      ],
      "execution_count": null,
      "outputs": [
        {
          "output_type": "stream",
          "name": "stdout",
          "text": [
            "5\n",
            "4\n",
            "3\n",
            "2\n",
            "1\n",
            "Blastoff!\n",
            "0\n"
          ]
        }
      ]
    },
    {
      "cell_type": "markdown",
      "metadata": {
        "id": "AQ22TNtwrXl2"
      },
      "source": [
        "Loops/ repeated steps have **iteration variables** that change each time through a loop.\n",
        "\n",
        "Often these **iteration variables** go through a sequence of numbers."
      ]
    },
    {
      "cell_type": "code",
      "metadata": {
        "id": "p2hWS8vBsAyX"
      },
      "source": [
        "#Example 1\n",
        "n = 5\n",
        "while n > 0:\n",
        "  print(n)\n",
        "print(\"Blastoff!\")\n",
        "print(n)"
      ],
      "execution_count": null,
      "outputs": []
    },
    {
      "cell_type": "markdown",
      "metadata": {
        "id": "0Jm0v76GslhB"
      },
      "source": [
        "The above loop is an **infinite loop**."
      ]
    },
    {
      "cell_type": "code",
      "metadata": {
        "id": "EXKzPesBsuFB",
        "colab": {
          "base_uri": "https://localhost:8080/"
        },
        "outputId": "e0961053-edcd-4a3c-e2a1-7689cf8c5554"
      },
      "source": [
        "#Example 2\n",
        "n = 0\n",
        "while n > 0:\n",
        "  print(n)\n",
        "print(\"Blastoff!\")\n",
        "print(n)"
      ],
      "execution_count": null,
      "outputs": [
        {
          "output_type": "stream",
          "name": "stdout",
          "text": [
            "Blastoff!\n",
            "0\n"
          ]
        }
      ]
    },
    {
      "cell_type": "markdown",
      "metadata": {
        "id": "hInjtXp4s4Dy"
      },
      "source": [
        "The above loop does nothing."
      ]
    },
    {
      "cell_type": "markdown",
      "metadata": {
        "id": "7qDDl5NTtAIZ"
      },
      "source": [
        "#2. Breaking out of a loop\n",
        "\n",
        "- The **break** statement ends the current loop and jumps to the statement immdediately following the loop.\n",
        "- It is like a loop test that can happen anywhere in the body of the loop.\n",
        "\n",
        "![picture](https://drive.google.com/uc?export=view&id=1BmpEzcZngze4iNgWI8OG1QyOyOGCnU-Z)\n",
        "\n",
        "(Reference:http://www.dr-chuck.com/)\n",
        "\n"
      ]
    },
    {
      "cell_type": "code",
      "metadata": {
        "id": "AZ_YqkLnt_eW",
        "colab": {
          "base_uri": "https://localhost:8080/"
        },
        "outputId": "9c3de3d2-b2ea-4f9a-ba37-207a8d3838e5"
      },
      "source": [
        "#Example 1\n",
        "n = 5\n",
        "while n > 0:\n",
        "  print(n)\n",
        "  n = n - 1\n",
        "  if n == 4:\n",
        "    break\n",
        "print(\"Done\")\n",
        "print(n)"
      ],
      "execution_count": null,
      "outputs": [
        {
          "output_type": "stream",
          "name": "stdout",
          "text": [
            "5\n",
            "Done\n",
            "4\n"
          ]
        }
      ]
    },
    {
      "cell_type": "markdown",
      "metadata": {
        "id": "pfeBLNyeupc4"
      },
      "source": [
        "##3. Finishing an iteration with continue\n",
        "\n",
        "- The **continue** statement ends the current iteration and jumps to the top of the loop and starts the next iteration.\n",
        "\n",
        "![picture](https://drive.google.com/uc?export=view&id=1UkcMuuyBSC252qnGBpZwwFU7-y7Rh4DB)\n",
        "\n",
        "(Reference:http://www.dr-chuck.com/)"
      ]
    },
    {
      "cell_type": "code",
      "metadata": {
        "id": "Ge94hrL1vp_l"
      },
      "source": [
        "#Example 1\n",
        "n = 5\n",
        "while n > 0:\n",
        "  print(n)\n",
        "  if n == 4:\n",
        "    continue\n",
        "  n = n - 1\n",
        "print(\"Done\")\n",
        "print(n)"
      ],
      "execution_count": null,
      "outputs": []
    },
    {
      "cell_type": "code",
      "metadata": {
        "id": "2qCmax7dyeF5"
      },
      "source": [
        "#Example 2\n",
        "n = 5\n",
        "while n > 0:\n",
        "  print(n)\n",
        "  n = n - 1\n",
        "  if n == 4:\n",
        "    continue\n",
        "print(\"Done\")\n",
        "print(n)"
      ],
      "execution_count": null,
      "outputs": []
    },
    {
      "cell_type": "markdown",
      "metadata": {
        "id": "z8jcljB-yltv"
      },
      "source": [
        "##4. Indefinite and definite loops\n",
        "\n",
        "Indefinite loops:\n",
        "\n",
        "- **While** loops are called **\"indefinite loops\"** because they keep going until a logical condition becomes **False**.\n",
        "\n",
        "- The loops we have seen so far are pretty easy to examine to see if they will terminate or if they will be **\"infinite loops\"**.\n",
        "\n",
        "- Sometimes it is a little harder to be sure if a loop will terminate.\n",
        "\n",
        "Definite loops:\n",
        "\n",
        "- Loops iterate over a set of items.\n",
        "- Quite often we have an **list** of items of the **lines in a file** - effectively a **finite set** of things.\n",
        "- We can write a loop to run the loop once for each of the items in a set using the Python **for** construct.\n",
        "- These loops are called \"definite loops\" because they execute an exact number of times\n",
        "- We say that **\"definite loops iterate through the members of a set\"**.\n",
        "\n",
        "\n",
        "![picture](https://drive.google.com/uc?export=view&id=1DAInRuSuvvv4eOGvO8fZNj5mCL25GVWc)\n",
        "\n",
        "(Reference:http://www.dr-chuck.com/)\n"
      ]
    },
    {
      "cell_type": "code",
      "metadata": {
        "id": "dzehr5x60bJd"
      },
      "source": [
        "#Example 1\n",
        "for i in [5,4,3,2,1]:\n",
        "  print(i)\n",
        "print('Blastoff!')"
      ],
      "execution_count": null,
      "outputs": []
    },
    {
      "cell_type": "markdown",
      "metadata": {
        "id": "nJRIBG773giE"
      },
      "source": [
        "Definite loops (for loops) have explicit **iteration variables** that change each time through a loop. These **iteration variables** move through the sequence or set of items.\n",
        "\n",
        "**i**: the **iteration variable** \"iterates\" through the **sequence** (ordered set)\"\n",
        "\n",
        "**[5,4,3,2,1]**: the five-element **sequence**, a list of items\n",
        "\n",
        "**print(i)**: the **block (body)** of code is executed once for each value **in** the **sequence**\n",
        "\n",
        "The **iteration variable** moves through all of the values in the **sequence**.\n",
        "\n",
        "\n",
        "![picture](https://drive.google.com/uc?export=view&id=1RLMrvoYgdtB87P1sZwU515sc6GMw2Zhs)\n",
        "\n",
        "(Reference:http://www.dr-chuck.com/)"
      ]
    },
    {
      "cell_type": "code",
      "metadata": {
        "id": "4GqT1RPT0qVV",
        "colab": {
          "base_uri": "https://localhost:8080/"
        },
        "outputId": "97bd155e-ce33-4fd1-f001-c114831e7853"
      },
      "source": [
        "#Example 2\n",
        "for i in [5,4,3,2,1]:\n",
        "  print(i)\n",
        "  if i == 2:\n",
        "    break\n",
        "print('Blastoff!')"
      ],
      "execution_count": null,
      "outputs": [
        {
          "output_type": "stream",
          "name": "stdout",
          "text": [
            "5\n",
            "4\n",
            "3\n",
            "2\n",
            "Blastoff!\n"
          ]
        }
      ]
    },
    {
      "cell_type": "code",
      "metadata": {
        "id": "ZW65ssNG2iML",
        "colab": {
          "base_uri": "https://localhost:8080/"
        },
        "outputId": "38e94188-148b-4cbb-cdb3-abe26de0e256"
      },
      "source": [
        "#Example 3\n",
        "for i in [5,4,3,2,1]:\n",
        "  print(i)\n",
        "  if i == 2:\n",
        "    continue\n",
        "print('Blastoff!')"
      ],
      "execution_count": null,
      "outputs": [
        {
          "output_type": "stream",
          "name": "stdout",
          "text": [
            "5\n",
            "4\n",
            "3\n",
            "2\n",
            "1\n",
            "Blastoff!\n"
          ]
        }
      ]
    },
    {
      "cell_type": "code",
      "metadata": {
        "id": "cMb3A-832qHQ",
        "colab": {
          "base_uri": "https://localhost:8080/"
        },
        "outputId": "2b6c9669-335a-4236-e29d-e4cc38ba6c5c"
      },
      "source": [
        "#Example 4\n",
        "friends = ['Joseph', 'Glenn', 'Sally']\n",
        "print(friends)\n",
        "for friend in friends:\n",
        "  print('Happy New Year:', friend)\n",
        "print('Done!')\n",
        "print('Done','GIA')"
      ],
      "execution_count": null,
      "outputs": [
        {
          "output_type": "stream",
          "name": "stdout",
          "text": [
            "['Joseph', 'Glenn', 'Sally']\n",
            "Happy New Year: Joseph\n",
            "Happy New Year: Glenn\n",
            "Happy New Year: Sally\n",
            "Done!\n",
            "Done GIA\n"
          ]
        }
      ]
    },
    {
      "cell_type": "markdown",
      "metadata": {
        "id": "h52-IDLW6L3M"
      },
      "source": [
        "##5. Making \"smart\" loops\n",
        "- Set some variables to initial values\n",
        "- Within the loop block, look for something or do something to each entry separately, updating a variable\n",
        "- Look at the variables"
      ]
    },
    {
      "cell_type": "markdown",
      "metadata": {
        "id": "qBGp12hZvhMF"
      },
      "source": [
        "Reference: http://www.dr-chuck.com/"
      ]
    }
  ]
}