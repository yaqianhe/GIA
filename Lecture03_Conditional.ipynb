{
  "nbformat": 4,
  "nbformat_minor": 0,
  "metadata": {
    "colab": {
      "name": "Lecture03 Conditional.ipynb",
      "provenance": [],
      "collapsed_sections": [],
      "authorship_tag": "ABX9TyOzPkOtL5vl84xZrD1FCjzT",
      "include_colab_link": true
    },
    "kernelspec": {
      "name": "python3",
      "display_name": "Python 3"
    }
  },
  "cells": [
    {
      "cell_type": "markdown",
      "metadata": {
        "id": "view-in-github",
        "colab_type": "text"
      },
      "source": [
        "<a href=\"https://colab.research.google.com/github/yaqianhe/GIA/blob/main/Lecture03_Conditional.ipynb\" target=\"_parent\"><img src=\"https://colab.research.google.com/assets/colab-badge.svg\" alt=\"Open In Colab\"/></a>"
      ]
    },
    {
      "cell_type": "markdown",
      "metadata": {
        "id": "FOgoF2Q5assQ"
      },
      "source": [
        "## Lecture 3: Condition\n",
        "## Yaqian He\n",
        "## Department of Geography\n",
        "## University of Central Arkansas"
      ]
    },
    {
      "cell_type": "markdown",
      "metadata": {
        "id": "ItYG_Ix_dMD2"
      },
      "source": [
        "##1. Conditional steps\n",
        "\n",
        "We use **if** to achieve the conditional statement\n",
        "\n",
        "![picture](https://drive.google.com/uc?export=view&id=1yoS8WhERzJ0qZPF60sFZIwo2jaoLyYW7)\n",
        "\n",
        "(Reference:http://www.dr-chuck.com/)\n"
      ]
    },
    {
      "cell_type": "code",
      "metadata": {
        "id": "gZA6ZMoDamW_",
        "colab": {
          "base_uri": "https://localhost:8080/"
        },
        "outputId": "74982834-f369-4922-f6d5-d10b527f075e"
      },
      "source": [
        "# Example 1\n",
        "b = 5\n",
        "if b < 10:\n",
        "  print('Smaller')\n",
        "if b > 20:\n",
        "  print('Bigger')  \n",
        "print('Finish')\n",
        "print(b)"
      ],
      "execution_count": null,
      "outputs": [
        {
          "output_type": "stream",
          "name": "stdout",
          "text": [
            "Smaller\n",
            "Finish\n",
            "5\n"
          ]
        }
      ]
    },
    {
      "cell_type": "markdown",
      "metadata": {
        "id": "JGcE6by4jeta"
      },
      "source": [
        "##2. Comparison operators\n",
        "- **Boolean expressions** ask a question and produce a True/False or Yes/No result which we use to control program flow\n",
        "- **Boolean expressions** using **comparison operators** evaluate to True/ False or Yes/ No\n",
        "- Comparison operators look at variable but do not change the variables.\n",
        "\n",
        "Comparsion operators in Python: \n",
        "\n",
        "**<**: Less than\n",
        "\n",
        "**<=**: Less than or Equal to\n",
        "\n",
        "**==**: Equal to\n",
        "\n",
        "**>=**: Greater than or Equal to\n",
        "\n",
        "**>**: Greater than\n",
        "\n",
        "**!=**: Not equal\n"
      ]
    },
    {
      "cell_type": "code",
      "metadata": {
        "id": "A4f0MapTmniN",
        "colab": {
          "base_uri": "https://localhost:8080/"
        },
        "outputId": "e4718911-4686-4402-ac6b-dad0f4c022a7"
      },
      "source": [
        "# Example 1\n",
        "x = 5\n",
        "if x == 5 :\n",
        "  print('Equals 5')\n",
        "if x > 4 :\n",
        "  print('Greater than 4')\n",
        "if x >= 5 :\n",
        "  print('Greater than or Equals 5')\n",
        "if x < 6 :\n",
        "  print('Less than 6')\n",
        "if x <= 5 :\n",
        "  print('Less than or Equals 5')\n",
        "if x != 6 :\n",
        "  print('Not equal 6')\n",
        "print(x)"
      ],
      "execution_count": null,
      "outputs": [
        {
          "output_type": "stream",
          "name": "stdout",
          "text": [
            "Equals 5\n",
            "Greater than 4\n",
            "Greater than or Equals 5\n",
            "Less than 6\n",
            "Less than or Equals 5\n",
            "Not equal 6\n",
            "5\n"
          ]
        }
      ]
    },
    {
      "cell_type": "markdown",
      "metadata": {
        "id": "tKSKtA6Jpgji"
      },
      "source": [
        "##3. Indentation\n",
        "- **Increase indent** after an **if** statement or **for** statments (after :)\n",
        "- **Maintain indent** to indicate the **scope** of the block (which lines are affected by the **if/for**)\n",
        "- **Reduce indent** back to the level of the **if** statement or **for** statement to indicate the end of the block\n",
        "- **Blank lines** are ignored - they do not affect indentation\n",
        "- **Comments** on a line by themseleves are ignored with regard to indentation\n",
        "\n",
        "Python cares a lot about how far a line is indented. If you mix tabs and spaces, you may get **\"indentation errors\"** even if everything looks fine."
      ]
    },
    {
      "cell_type": "code",
      "metadata": {
        "id": "U_FHs2PZrXip"
      },
      "source": [
        "# Example 1\n",
        "x = 5\n",
        "if x > 2 :\n",
        "print('Bigger than 2')\n",
        "print('Still bigger')\n",
        "print('Done with 2')"
      ],
      "execution_count": null,
      "outputs": []
    },
    {
      "cell_type": "code",
      "metadata": {
        "id": "2wxMUzrHrrME",
        "colab": {
          "base_uri": "https://localhost:8080/"
        },
        "outputId": "f575d5bd-cdd5-4a95-f940-67dde15e66fc"
      },
      "source": [
        "# Example 2\n",
        "x = 5\n",
        "if x > 2 :\n",
        "  print('Bigger than 2')\n",
        "  #print('Bigger than 3')\n",
        "  print('Still bigger')\n",
        "print('Done with 2')"
      ],
      "execution_count": null,
      "outputs": [
        {
          "output_type": "stream",
          "name": "stdout",
          "text": [
            "Bigger than 2\n",
            "Still bigger\n",
            "Done with 2\n"
          ]
        }
      ]
    },
    {
      "cell_type": "code",
      "metadata": {
        "id": "IbyzIDSIr15I"
      },
      "source": [
        "# Example 3\n",
        "x = 1\n",
        "if x > 2 :\n",
        "    print('Bigger than 2')\n",
        "    print('Still bigger')\n",
        "    print('Done with 2')"
      ],
      "execution_count": null,
      "outputs": []
    },
    {
      "cell_type": "code",
      "metadata": {
        "id": "fNA5x_72sFUt",
        "colab": {
          "base_uri": "https://localhost:8080/"
        },
        "outputId": "51a5cc63-44e4-4ba1-a90b-6b1909d2879f"
      },
      "source": [
        "# Example 4\n",
        "x = 1\n",
        "if x > 2 :\n",
        "    print('Bigger than 2')\n",
        "    print('Still bigger')\n",
        "    \n",
        "print('Done with 2')"
      ],
      "execution_count": null,
      "outputs": [
        {
          "output_type": "stream",
          "name": "stdout",
          "text": [
            "Done with 2\n"
          ]
        }
      ]
    },
    {
      "cell_type": "code",
      "metadata": {
        "id": "Wb4QPRYosTZ-",
        "colab": {
          "base_uri": "https://localhost:8080/"
        },
        "outputId": "2add5b20-17f8-4476-fa2e-bf150e93ed6b"
      },
      "source": [
        "#Example 5\n",
        "for i in range(5) :\n",
        "  print(i)\n",
        "  if i > 2 :\n",
        "    print('Bigger than 2')\n",
        "  print('Done with i ', i)\n",
        "print('All Done')"
      ],
      "execution_count": null,
      "outputs": [
        {
          "output_type": "stream",
          "name": "stdout",
          "text": [
            "0\n",
            "Done with i  0\n",
            "1\n",
            "Done with i  1\n",
            "2\n",
            "Done with i  2\n",
            "3\n",
            "Bigger than 2\n",
            "Done with i  3\n",
            "4\n",
            "Bigger than 2\n",
            "Done with i  4\n",
            "All Done\n"
          ]
        }
      ]
    },
    {
      "cell_type": "markdown",
      "metadata": {
        "id": "VHJ558Sm0Yvi"
      },
      "source": [
        "##4. One-way decision"
      ]
    },
    {
      "cell_type": "code",
      "metadata": {
        "id": "MDUJWTijnk6r",
        "colab": {
          "base_uri": "https://localhost:8080/"
        },
        "outputId": "c0342c6e-2f1b-491c-a526-1da8129de337"
      },
      "source": [
        "# Example 1\n",
        "x = 5\n",
        "print('Before:',x)\n",
        "if x == 5 :\n",
        "  print('Is 5')\n",
        "  print('Is Still 5')\n",
        "  print('Third 5')\n",
        "print('Afterwards:',x)"
      ],
      "execution_count": null,
      "outputs": [
        {
          "output_type": "stream",
          "name": "stdout",
          "text": [
            "Before: 5\n",
            "Is 5\n",
            "Is Still 5\n",
            "Third 5\n",
            "Afterwards: 5\n"
          ]
        }
      ]
    },
    {
      "cell_type": "code",
      "metadata": {
        "id": "sc_0VgvkoMzX",
        "colab": {
          "base_uri": "https://localhost:8080/"
        },
        "outputId": "84d89a45-6289-4635-a2c0-4f2dc132d04b"
      },
      "source": [
        "# Example 2\n",
        "x = 5\n",
        "print('Before:',x)\n",
        "if x == 6 :\n",
        "  print('Is 6')\n",
        "  print('Is Still 6')\n",
        "  print('Third 6')\n",
        "print('Afterwards:',x)\n"
      ],
      "execution_count": null,
      "outputs": [
        {
          "output_type": "stream",
          "name": "stdout",
          "text": [
            "Before: 5\n",
            "Afterwards: 5\n"
          ]
        }
      ]
    },
    {
      "cell_type": "markdown",
      "metadata": {
        "id": "Bz4ZxmsRswaK"
      },
      "source": [
        "##5. Nested decision\n",
        "![picture](https://drive.google.com/uc?export=view&id=1jp-0jWqg_UFzp6yge5848C8XCpaz_wXE)\n",
        "\n",
        "(Reference:http://www.dr-chuck.com/)"
      ]
    },
    {
      "cell_type": "code",
      "metadata": {
        "id": "f5hlcMPYt54T",
        "colab": {
          "base_uri": "https://localhost:8080/"
        },
        "outputId": "ecbbaefc-a753-4978-f7f0-acfe10634c3d"
      },
      "source": [
        "#Example 1\n",
        "x = 42\n",
        "if x > 1 :\n",
        "  print('More than one')\n",
        "  if x < 100 :\n",
        "    print('Less than 100')\n",
        "print('All done')"
      ],
      "execution_count": null,
      "outputs": [
        {
          "output_type": "stream",
          "name": "stdout",
          "text": [
            "More than one\n",
            "Less than 100\n",
            "All done\n"
          ]
        }
      ]
    },
    {
      "cell_type": "markdown",
      "metadata": {
        "id": "jGbh_FZXsJ6D"
      },
      "source": [
        "##6. Two-way decision\n",
        "![picture](https://drive.google.com/uc?export=view&id=1IhecV4NSWY-_TB3vS7NEXnIjvxqbJl5A)\n",
        "\n",
        "(Reference:http://www.dr-chuck.com/)\n",
        "\n",
        "- Sometimes we want to do one thing if a logical expression is true and something else if the expression is false\n",
        "- It is like a fork in the road - we must choose one or the other path but not both\n",
        "\n",
        "- It can be achieved by using **\"else\"**\n",
        "\n"
      ]
    },
    {
      "cell_type": "code",
      "metadata": {
        "id": "CqDlBz1v2Ok8",
        "colab": {
          "base_uri": "https://localhost:8080/"
        },
        "outputId": "014c93d8-39cf-4725-fd17-ca072ce6d812"
      },
      "source": [
        "# Example 1\n",
        "x = 4\n",
        "if x > 2 :\n",
        "  print('Bigger')\n",
        "else :\n",
        "  print('Smaller')\n",
        "print('All done')"
      ],
      "execution_count": null,
      "outputs": [
        {
          "output_type": "stream",
          "name": "stdout",
          "text": [
            "Bigger\n",
            "All done\n"
          ]
        }
      ]
    },
    {
      "cell_type": "code",
      "metadata": {
        "id": "iSoUg_tf2aB9",
        "colab": {
          "base_uri": "https://localhost:8080/"
        },
        "outputId": "4bb8ed41-0c88-4294-9328-441698dfda25"
      },
      "source": [
        "# Example 2\n",
        "x = 1\n",
        "if x > 2 :\n",
        "  print('Bigger')\n",
        "else :\n",
        "  print('Smaller')\n",
        "print('All done')"
      ],
      "execution_count": null,
      "outputs": [
        {
          "output_type": "stream",
          "name": "stdout",
          "text": [
            "Smaller\n",
            "All done\n"
          ]
        }
      ]
    },
    {
      "cell_type": "markdown",
      "metadata": {
        "id": "CDBv7H3C2vrr"
      },
      "source": [
        "##7. Multi-way decision\n",
        "![picture](https://drive.google.com/uc?export=view&id=1sdOZ5gwRCIpR08Y-v51JwKj1ndBhiQLK)\n",
        "\n",
        "(Reference:http://www.dr-chuck.com/)\n"
      ]
    },
    {
      "cell_type": "code",
      "metadata": {
        "id": "RTRmpsPm2_-4",
        "colab": {
          "base_uri": "https://localhost:8080/"
        },
        "outputId": "b068fdba-e0cc-41ab-c8c8-5824b6f177c5"
      },
      "source": [
        "# Example 1\n",
        "x = 1\n",
        "if x < 2 :\n",
        "  print('small')\n",
        "elif x < 10:\n",
        "  print('Medium')\n",
        "else:\n",
        "  print('Large')\n",
        "print('All done')"
      ],
      "execution_count": null,
      "outputs": [
        {
          "output_type": "stream",
          "name": "stdout",
          "text": [
            "small\n",
            "All done\n"
          ]
        }
      ]
    },
    {
      "cell_type": "code",
      "metadata": {
        "id": "E0pv4U7p3--Y",
        "colab": {
          "base_uri": "https://localhost:8080/"
        },
        "outputId": "22518d37-eb8e-4265-88c4-d884915b2537"
      },
      "source": [
        "# Example 2\n",
        "x = 8\n",
        "if x < 2 :\n",
        "  print('small')\n",
        "elif x < 10:\n",
        "  print('Medium')\n",
        "else:\n",
        "  print('Large')\n",
        "print('All done')"
      ],
      "execution_count": null,
      "outputs": [
        {
          "output_type": "stream",
          "name": "stdout",
          "text": [
            "Medium\n",
            "All done\n"
          ]
        }
      ]
    },
    {
      "cell_type": "code",
      "metadata": {
        "id": "pNkCYy0y4KFy",
        "colab": {
          "base_uri": "https://localhost:8080/"
        },
        "outputId": "61dce2d4-8422-41a5-89a1-bb5dc30e313c"
      },
      "source": [
        "# Example 3\n",
        "x = 12\n",
        "if x < 2 :\n",
        "  print('small')\n",
        "elif x < 10:\n",
        "  print('Medium')\n",
        "else:\n",
        "  print('Large')\n",
        "print('All done')"
      ],
      "execution_count": null,
      "outputs": [
        {
          "output_type": "stream",
          "name": "stdout",
          "text": [
            "Large\n",
            "All done\n"
          ]
        }
      ]
    },
    {
      "cell_type": "code",
      "metadata": {
        "id": "uQg7Z2-F4eTq",
        "colab": {
          "base_uri": "https://localhost:8080/"
        },
        "outputId": "70f50587-3be5-41b6-8193-751ff3471f10"
      },
      "source": [
        "# Example 4\n",
        "x = 12\n",
        "if x < 2 :\n",
        "  print('Small')\n",
        "elif x < 10 :\n",
        "  print('Medium')\n",
        "print('All done')"
      ],
      "execution_count": null,
      "outputs": [
        {
          "output_type": "stream",
          "name": "stdout",
          "text": [
            "All done\n"
          ]
        }
      ]
    },
    {
      "cell_type": "markdown",
      "metadata": {
        "id": "6ia7xvqJ4x_x"
      },
      "source": [
        "Note, if the x value is not assigned, it will never print."
      ]
    },
    {
      "cell_type": "markdown",
      "metadata": {
        "id": "zDliDaps57Oa"
      },
      "source": [
        "##8. The try/ except structure\n",
        "- You surround a code with **try** and **except**\n",
        "- If the code in the **try** works, the **except** is skipped\n",
        "- If the code in the **try** fails, it jumps to the except section"
      ]
    },
    {
      "cell_type": "code",
      "metadata": {
        "id": "SgDM0vSf6chV",
        "colab": {
          "base_uri": "https://localhost:8080/"
        },
        "outputId": "fb392e0b-b5dc-44f2-e61a-7c682f582741"
      },
      "source": [
        "#Example 1\n",
        "astr = 'Hello GIA'\n",
        "try:\n",
        "  istr = int(astr)\n",
        "except:\n",
        "  istr = -1\n",
        "print('First', istr)"
      ],
      "execution_count": null,
      "outputs": [
        {
          "output_type": "stream",
          "name": "stdout",
          "text": [
            "First -1\n"
          ]
        }
      ]
    },
    {
      "cell_type": "code",
      "metadata": {
        "id": "HR-2KaOa4jj8"
      },
      "source": [
        "istr = int(astr)"
      ],
      "execution_count": null,
      "outputs": []
    },
    {
      "cell_type": "code",
      "metadata": {
        "id": "2wxUosQU6uR6"
      },
      "source": [
        "#Example 2\n",
        "astr = '3404'\n",
        "try:\n",
        "  istr = int(astr)\n",
        "except:\n",
        "  istr = -1\n",
        "print('First', istr)"
      ],
      "execution_count": null,
      "outputs": []
    },
    {
      "cell_type": "markdown",
      "metadata": {
        "id": "4Y8MDNTm7H2m"
      },
      "source": [
        "Reference: http://www.dr-chuck.com/"
      ]
    }
  ]
}