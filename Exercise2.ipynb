{
  "nbformat": 4,
  "nbformat_minor": 0,
  "metadata": {
    "colab": {
      "name": "Exercise2.ipynb",
      "provenance": [],
      "collapsed_sections": [],
      "authorship_tag": "ABX9TyNDN1UlaQbkIK2wrJK9wNpa",
      "include_colab_link": true
    },
    "kernelspec": {
      "name": "python3",
      "display_name": "Python 3"
    }
  },
  "cells": [
    {
      "cell_type": "markdown",
      "metadata": {
        "id": "view-in-github",
        "colab_type": "text"
      },
      "source": [
        "<a href=\"https://colab.research.google.com/github/yaqianhe/GIA/blob/main/Exercise2.ipynb\" target=\"_parent\"><img src=\"https://colab.research.google.com/assets/colab-badge.svg\" alt=\"Open In Colab\"/></a>"
      ]
    },
    {
      "cell_type": "markdown",
      "metadata": {
        "id": "PEMaFsmIUv1f"
      },
      "source": [
        "## Exercise 2\n",
        "Calculate the gross pay per week for a staff in UCA. Assume the hours for the staff to work per week is 40 hours and the rate per hour is \\$20. How much the staff can get per week?\n",
        "You need to define variables and assign values to them:\n",
        "- Total hours per week: 40 hours\n",
        "- Rate per hour: \\$20\n",
        "- Total gross pay: 40*20=\\$800\n",
        "\n",
        "**Please submit your code through Blackboard**"
      ]
    },
    {
      "cell_type": "code",
      "metadata": {
        "colab": {
          "base_uri": "https://localhost:8080/"
        },
        "id": "rxAEn6sdaRZE",
        "outputId": "6e6511d7-9723-4471-a499-642e13b4ec01"
      },
      "source": [
        "# (1) This is the example code provided by Dr.He, you need to modify the variable name for your own\n",
        "# (2) You also want to define the variable name as mnemonic variable\n",
        "\n",
        "x = 40 #define variable for total hours per week (10 points)\n",
        "y = 20 #define variable for rate per hour (10 points)\n",
        "z = x * y #define variable for total gross pay (20 points)\n",
        "print(z) #(10 points)"
      ],
      "execution_count": null,
      "outputs": [
        {
          "output_type": "stream",
          "text": [
            "800\n"
          ],
          "name": "stdout"
        }
      ]
    }
  ]
}