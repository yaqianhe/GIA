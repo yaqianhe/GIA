{
  "nbformat": 4,
  "nbformat_minor": 0,
  "metadata": {
    "colab": {
      "name": "Exercise2.ipynb",
      "provenance": [],
      "collapsed_sections": [],
      "authorship_tag": "ABX9TyNwLIv9FBkGI8ojXOkgsDBR",
      "include_colab_link": true
    },
    "kernelspec": {
      "name": "python3",
      "display_name": "Python 3"
    }
  },
  "cells": [
    {
      "cell_type": "markdown",
      "metadata": {
        "id": "view-in-github",
        "colab_type": "text"
      },
      "source": [
        "<a href=\"https://colab.research.google.com/github/yaqianhe/GIA/blob/main/Exercise2.ipynb\" target=\"_parent\"><img src=\"https://colab.research.google.com/assets/colab-badge.svg\" alt=\"Open In Colab\"/></a>"
      ]
    },
    {
      "cell_type": "markdown",
      "metadata": {
        "id": "PEMaFsmIUv1f"
      },
      "source": [
        "## Exercise 2\r\n",
        "Calculate the gross pay per week for a staff in UCA. Assume the hours for the staff to work per week is 40 hours and the rate per hour is \\$20. How much the staff can get per week?\r\n",
        "You need to define variables and assign values to them:\r\n",
        "- Total hours per week: 40\r\n",
        "- Rate per hour: \\$20\r\n",
        "- Total gross pay: 40*20=\\$800"
      ]
    },
    {
      "cell_type": "code",
      "metadata": {
        "colab": {
          "base_uri": "https://localhost:8080/"
        },
        "id": "rxAEn6sdaRZE",
        "outputId": "4b5e671c-d9aa-451c-a9aa-f9bdb0913d95"
      },
      "source": [
        "# (1) This is the example code, you need to modify the variable name for your own\r\n",
        "# (2) You also want to define the variable name as mnemonic variable\r\n",
        "x=40\r\n",
        "y=20\r\n",
        "z=x*y\r\n",
        "print(z)"
      ],
      "execution_count": 1,
      "outputs": [
        {
          "output_type": "stream",
          "text": [
            "800\n"
          ],
          "name": "stdout"
        }
      ]
    }
  ]
}