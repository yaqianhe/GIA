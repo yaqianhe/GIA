{
  "nbformat": 4,
  "nbformat_minor": 0,
  "metadata": {
    "colab": {
      "name": "Lecture06: Iteration II.ipynb",
      "provenance": [],
      "collapsed_sections": [],
      "authorship_tag": "ABX9TyOzNgHZamrdzpphEIEM1fi3",
      "include_colab_link": true
    },
    "kernelspec": {
      "name": "python3",
      "display_name": "Python 3"
    }
  },
  "cells": [
    {
      "cell_type": "markdown",
      "metadata": {
        "id": "view-in-github",
        "colab_type": "text"
      },
      "source": [
        "<a href=\"https://colab.research.google.com/github/yaqianhe/GIA/blob/main/Lecture06_Iteration_II.ipynb\" target=\"_parent\"><img src=\"https://colab.research.google.com/assets/colab-badge.svg\" alt=\"Open In Colab\"/></a>"
      ]
    },
    {
      "cell_type": "markdown",
      "metadata": {
        "id": "XYSegXEtvOnk"
      },
      "source": [
        "##Lecture 6: Iterations II\n",
        "##Yaqian He\n",
        "##Department of Geography\n",
        "##University of Central Arkansas\n"
      ]
    },
    {
      "cell_type": "markdown",
      "metadata": {
        "id": "ahyK5RPdvY3Z"
      },
      "source": [
        "# Example 1. What is the largest number?\n",
        "\n",
        "There is a numeric value list [3,41,12,9,74,15], how to find the maximum value in this list using loop?\n",
        "\n",
        "We need to make a variable that contains the largest value we have seen so far. If the current **number we are looking at** is large, it is the new **largest value we have seen so far**. This value will be assigned to the variable."
      ]
    },
    {
      "cell_type": "code",
      "metadata": {
        "id": "R5G8DCJpvRDW"
      },
      "source": [
        "#Example 1.1\n",
        "largest_so_far = -1\n",
        "print('Before', largest_so_far)\n",
        "for current_num in [9,41,12,3,74,15]:\n",
        "  if current_num > largest_so_far:\n",
        "    largest_so_far = current_num\n",
        "  print(largest_so_far, current_num)\n",
        "\n",
        "print('After', largest_so_far)"
      ],
      "execution_count": null,
      "outputs": []
    },
    {
      "cell_type": "code",
      "metadata": {
        "id": "ExiLCFsb3n--"
      },
      "source": [
        "#Example 1.2\n",
        "largest_so_far = 250\n",
        "print('Before', largest_so_far)\n",
        "for current_num in [9,41,12,3,74,15]:\n",
        "  if current_num > largest_so_far:\n",
        "    largest_so_far = current_num\n",
        "  print(largest_so_far, current_num)\n",
        "\n",
        "print('After', largest_so_far)"
      ],
      "execution_count": null,
      "outputs": []
    },
    {
      "cell_type": "code",
      "metadata": {
        "id": "HvFN1tNp3yXw"
      },
      "source": [
        "#Example 1.3\n",
        "largest_so_far = None\n",
        "print('Before', largest_so_far)\n",
        "for current_num in [9,41,12,3,74,15,-2]:\n",
        "  if largest_so_far == None:\n",
        "    largest_so_far = current_num\n",
        "  elif current_num > largest_so_far:\n",
        "    largest_so_far = current_num\n",
        "  print(largest_so_far, current_num)\n",
        "\n",
        "print('After', largest_so_far)"
      ],
      "execution_count": null,
      "outputs": []
    },
    {
      "cell_type": "markdown",
      "metadata": {
        "id": "tx22O5woxdAl"
      },
      "source": [
        "#Example 2. What is the size of a list\n",
        "\n",
        "There is a numeric value list [3,41,12,9,74,15], how to count the size of this list using loop?\n",
        "\n",
        "To count the size of a list, we introduce a **size variable that starts at 0** and wee add **one to it each time through the loop**\n"
      ]
    },
    {
      "cell_type": "code",
      "metadata": {
        "id": "mFFjKPhAvNhv",
        "colab": {
          "base_uri": "https://localhost:8080/"
        },
        "outputId": "c92dd92e-0802-48e1-f499-d8b6c103b6aa"
      },
      "source": [
        "#Example 1\n",
        "list_size_so_far=0\n",
        "print('Before', list_size_so_far)\n",
        "for count in [9,41,12,3,74,15]:\n",
        "  list_size_so_far = list_size_so_far +1\n",
        "  print(list_size_so_far,count)\n",
        "\n",
        "print('After', list_size_so_far)"
      ],
      "execution_count": null,
      "outputs": [
        {
          "output_type": "stream",
          "name": "stdout",
          "text": [
            "Before 0\n",
            "1 9\n",
            "2 41\n",
            "3 12\n",
            "4 3\n",
            "5 74\n",
            "6 15\n",
            "After 6\n"
          ]
        }
      ]
    },
    {
      "cell_type": "markdown",
      "metadata": {
        "id": "BbzmYMoDydzF"
      },
      "source": [
        "#Example 3. What is the sum of a list\n",
        "\n",
        "There is a numeric value list [3,41,12,9,74,15], how to calculate the sum of this list using loop?\n",
        "\n",
        "To **add up** a **value** we encounter in a loop, we introduce a **sum variable that starts at 0** and we add the **value** to the sum each time through the loop."
      ]
    },
    {
      "cell_type": "code",
      "metadata": {
        "id": "QseAIz_jylj4",
        "colab": {
          "base_uri": "https://localhost:8080/"
        },
        "outputId": "3f100630-d429-408f-96ad-d594802cc123"
      },
      "source": [
        "sum_so_far=0\n",
        "print('Before', sum_so_far)\n",
        "for value in [9,41,12,3,74,15]:\n",
        "  sum_so_far = sum_so_far + value\n",
        "  print(sum_so_far,value)\n",
        "\n",
        "print('After', sum_so_far)"
      ],
      "execution_count": null,
      "outputs": [
        {
          "output_type": "stream",
          "name": "stdout",
          "text": [
            "Before 0\n",
            "9 9\n",
            "50 41\n",
            "62 12\n",
            "65 3\n",
            "139 74\n",
            "154 15\n",
            "After 154\n"
          ]
        }
      ]
    },
    {
      "cell_type": "markdown",
      "metadata": {
        "id": "bnooIwHazVyG"
      },
      "source": [
        "#Example 4. What is the average value of a list\n",
        "\n",
        "There is a numeric value list [3,41,12,9,74,15], how to calculate the average value of this list using loop?\n",
        "\n",
        "An **average** just combines the **size** and **sum** patterns and **divides when the loop is done**"
      ]
    },
    {
      "cell_type": "code",
      "metadata": {
        "id": "PRSXZRxIzxLt",
        "colab": {
          "base_uri": "https://localhost:8080/"
        },
        "outputId": "9b48cf0d-784e-4a6c-cc58-ea1e6d2620cf"
      },
      "source": [
        "list_size_so_far = 0\n",
        "sum_so_far = 0\n",
        "for value in [9,41,12,3,74,15]:\n",
        "  list_size_so_far = list_size_so_far + 1\n",
        "  sum_so_far = sum_so_far + value\n",
        "  print(list_size_so_far,sum_so_far,value)\n",
        "\n",
        "average_value= sum_so_far / list_size_so_far\n",
        "print('After', list_size_so_far, sum_so_far, average_value)"
      ],
      "execution_count": null,
      "outputs": [
        {
          "output_type": "stream",
          "name": "stdout",
          "text": [
            "1 9 9\n",
            "2 50 41\n",
            "3 62 12\n",
            "4 65 3\n",
            "5 139 74\n",
            "6 154 15\n",
            "After 6 154 25.666666666666668\n"
          ]
        }
      ]
    },
    {
      "cell_type": "markdown",
      "metadata": {
        "id": "P82I9YfH1H0V"
      },
      "source": [
        "#Example 5. Find certain values of a list\n",
        "\n",
        "There is a numeric value list [3,41,12,9,74,15], how to find certain values of this list using loop?"
      ]
    },
    {
      "cell_type": "code",
      "metadata": {
        "id": "VEh6RHyD1anu",
        "colab": {
          "base_uri": "https://localhost:8080/"
        },
        "outputId": "ffaecf6a-2a68-499b-e7b2-2e768872ae60"
      },
      "source": [
        "#Example 5.1 Find values larger than 20\n",
        "for value in [9,41,12,3,74,15]:\n",
        "  if value > 20:\n",
        "    print('Large number', value)"
      ],
      "execution_count": null,
      "outputs": [
        {
          "output_type": "stream",
          "name": "stdout",
          "text": [
            "Large number 41\n",
            "Large number 74\n"
          ]
        }
      ]
    },
    {
      "cell_type": "code",
      "metadata": {
        "id": "tIcnbGOi2fS-",
        "colab": {
          "base_uri": "https://localhost:8080/"
        },
        "outputId": "58ad3b66-2382-4301-c539-17b992ca4636"
      },
      "source": [
        "#Example 5.2 To decide whether the list has a value of 5\n",
        "#in this case, we need to use a variable that starts at False and is set to True as soon as\n",
        "#we find what we are looking for.\n",
        "found = False\n",
        "print('Before', found)\n",
        "for value in [9,41,12,3,74,15]:\n",
        "  if value == 5:\n",
        "    found = True\n",
        "  print(found, value)\n",
        "\n",
        "print('After', found)"
      ],
      "execution_count": null,
      "outputs": [
        {
          "output_type": "stream",
          "name": "stdout",
          "text": [
            "Before False\n",
            "False 9\n",
            "False 41\n",
            "False 12\n",
            "False 3\n",
            "False 74\n",
            "False 15\n",
            "After False\n"
          ]
        }
      ]
    },
    {
      "cell_type": "code",
      "metadata": {
        "id": "0luEQotE292a",
        "colab": {
          "base_uri": "https://localhost:8080/"
        },
        "outputId": "cfa88c6f-70af-44ca-8324-fe87f5f6aa1a"
      },
      "source": [
        "#Example 5.3 To decide whether the list has a value of 74\n",
        "found = False\n",
        "print('Before', found)\n",
        "for value in [9,41,12,3,74,15]:\n",
        "  if value == 74:\n",
        "    found = True\n",
        "  print(found, value)\n",
        "\n",
        "print('After', found)"
      ],
      "execution_count": null,
      "outputs": [
        {
          "output_type": "stream",
          "name": "stdout",
          "text": [
            "Before False\n",
            "False 9\n",
            "False 41\n",
            "False 12\n",
            "False 3\n",
            "True 74\n",
            "True 15\n",
            "After True\n"
          ]
        }
      ]
    },
    {
      "cell_type": "markdown",
      "metadata": {
        "id": "spICto8LvfqW"
      },
      "source": [
        "Reference: http://www.dr-chuck.com/"
      ]
    }
  ]
}