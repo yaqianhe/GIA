{
  "nbformat": 4,
  "nbformat_minor": 0,
  "metadata": {
    "colab": {
      "name": "Exercise5.ipynb",
      "provenance": [],
      "collapsed_sections": [],
      "authorship_tag": "ABX9TyNHkeoEVe0e3yhXlJP46lHo",
      "include_colab_link": true
    },
    "kernelspec": {
      "name": "python3",
      "display_name": "Python 3"
    }
  },
  "cells": [
    {
      "cell_type": "markdown",
      "metadata": {
        "id": "view-in-github",
        "colab_type": "text"
      },
      "source": [
        "<a href=\"https://colab.research.google.com/github/yaqianhe/GIA/blob/main/Exercise5.ipynb\" target=\"_parent\"><img src=\"https://colab.research.google.com/assets/colab-badge.svg\" alt=\"Open In Colab\"/></a>"
      ]
    },
    {
      "cell_type": "markdown",
      "metadata": {
        "id": "udPI2Vffs0rG"
      },
      "source": [
        "## Exercise 5\r\n",
        "Same series of numeric values [10,20,40,65,60,80,90,200] as Exercise 4. Find the maximum value and minimum value using for loops. You can use two loops for maximum and minimum values, respectively. You can also combine them into one loop."
      ]
    },
    {
      "cell_type": "code",
      "metadata": {
        "colab": {
          "base_uri": "https://localhost:8080/"
        },
        "id": "lLUvJiiguW_D",
        "outputId": "15e1b38d-f840-4f4c-a188-cfbd4237bf0f"
      },
      "source": [
        "# (1) This is the example code, you need to modify the variable name for your own\r\n",
        "# (2) You also want to define the variable name as mnemonic variable\r\n",
        "\r\n",
        "x= [10,20,40,65,60,80,90,200] #define a variable to store the values\r\n",
        "y=-1 #define a variable to store the maximum value so far\r\n",
        "z=9999 #define a variable to store the minimum value so far\r\n",
        "# The loop to find the maximum value\r\n",
        "for i in x:\r\n",
        "  if i > y:\r\n",
        "    y=i\r\n",
        "  print(y,i)\r\n",
        "print('max',y)\r\n",
        "# The loop to find the minimum value\r\n",
        "for i in x:\r\n",
        "  if i < z:\r\n",
        "    z=i\r\n",
        "  print(z,i)\r\n",
        "print('min',z)"
      ],
      "execution_count": 2,
      "outputs": [
        {
          "output_type": "stream",
          "text": [
            "10 10\n",
            "20 20\n",
            "40 40\n",
            "65 65\n",
            "65 60\n",
            "80 80\n",
            "90 90\n",
            "200 200\n",
            "max 200\n",
            "10 10\n",
            "10 20\n",
            "10 40\n",
            "10 65\n",
            "10 60\n",
            "10 80\n",
            "10 90\n",
            "10 200\n",
            "min 10\n"
          ],
          "name": "stdout"
        }
      ]
    }
  ]
}