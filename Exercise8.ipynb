{
  "nbformat": 4,
  "nbformat_minor": 0,
  "metadata": {
    "colab": {
      "name": "Exercise8.ipynb",
      "provenance": [],
      "collapsed_sections": [],
      "authorship_tag": "ABX9TyPFF2I2TrqTr72yunXUrhG6",
      "include_colab_link": true
    },
    "kernelspec": {
      "name": "python3",
      "display_name": "Python 3"
    }
  },
  "cells": [
    {
      "cell_type": "markdown",
      "metadata": {
        "id": "view-in-github",
        "colab_type": "text"
      },
      "source": [
        "<a href=\"https://colab.research.google.com/github/yaqianhe/GIA/blob/main/Exercise8.ipynb\" target=\"_parent\"><img src=\"https://colab.research.google.com/assets/colab-badge.svg\" alt=\"Open In Colab\"/></a>"
      ]
    },
    {
      "cell_type": "markdown",
      "metadata": {
        "id": "RsC9Zww6ZLiP"
      },
      "source": [
        "## Exercise 8\r\n",
        "In this exercise, you will plot a time series of precipitation data for Arkansas from 1980 to 2013.\r\n",
        "\r\n",
        "(1) Download the hourly precipitation data from NOAA https://www.ncdc.noaa.gov/cdo-web/search\r\n",
        "\r\n",
        "(2) Resample data from hourly to monthly\r\n",
        "\r\n",
        "(3) Subset data of 1980-1985 and 2008-2013 from original time series\r\n",
        "\r\n",
        "(4) Plot the two time series data \r\n"
      ]
    },
    {
      "cell_type": "code",
      "metadata": {
        "id": "tSmMJZ18fGuR"
      },
      "source": [
        "# This is the example code for your reference. You need to generate your own script.\r\n",
        "# Import necessary packages \r\n",
        "from matplotlib.axes._axes import _log as matplotlib_axes_logger\r\n",
        "import os\r\n",
        "import matplotlib.pyplot as plt\r\n",
        "import seaborn as sns\r\n",
        "import pandas as pd\r\n",
        "\r\n",
        "# Handle date time conversions between pandas and matplotlib\r\n",
        "from pandas.plotting import register_matplotlib_converters\r\n",
        "register_matplotlib_converters()\r\n",
        "\r\n",
        "# Dealing with error thrown by one of the plots\r\n",
        "matplotlib_axes_logger.setLevel('ERROR')\r\n",
        "import warnings\r\n",
        "warnings.filterwarnings('ignore')\r\n",
        "\r\n",
        "\r\n",
        "# Adjust font size and style of all plots in notebook with seaborn\r\n",
        "sns.set(font_scale=1.5, style=\"whitegrid\")"
      ],
      "execution_count": 4,
      "outputs": []
    },
    {
      "cell_type": "code",
      "metadata": {
        "colab": {
          "base_uri": "https://localhost:8080/"
        },
        "id": "k5Rmloi3fYyw",
        "outputId": "eef27699-ad8e-47cc-806b-b7e6b9c8456a"
      },
      "source": [
        "# read the data\r\n",
        "# as I built the script in Colab, I need to mount my google drive\r\n",
        "# You do not need to do this step, as you use the Anaconda Jupyter Notebook\r\n",
        "from google.colab import drive\r\n",
        "drive.mount('/content/drive/')\r\n",
        "# !!!Change the path for your data\r\n",
        "file_path='/content/drive/My Drive/Colab Notebooks/AR_Precipitation_hourly.csv'\r\n",
        "\r\n",
        "ar_precip_1980_2013 = pd.read_csv(file_path,\r\n",
        "                                  # Make sure the dates import in datetime format\r\n",
        "                                  parse_dates=['DATE'],\r\n",
        "                                  # Set DATE as the index so you can subset data by time period\r\n",
        "                                  index_col=['DATE'],\r\n",
        "                                  # Mask no data values so they are not plotted / used in analysis\r\n",
        "                                  na_values=['999.99'])"
      ],
      "execution_count": 14,
      "outputs": [
        {
          "output_type": "stream",
          "text": [
            "Drive already mounted at /content/drive/; to attempt to forcibly remount, call drive.mount(\"/content/drive/\", force_remount=True).\n"
          ],
          "name": "stdout"
        }
      ]
    },
    {
      "cell_type": "code",
      "metadata": {
        "colab": {
          "base_uri": "https://localhost:8080/"
        },
        "id": "PCraPjwwljeo",
        "outputId": "40b14aad-be27-4b68-8db7-063657bc11c5"
      },
      "source": [
        "# roughly check data\r\n",
        "ar_precip_1980_2013.dtypes"
      ],
      "execution_count": 15,
      "outputs": [
        {
          "output_type": "execute_result",
          "data": {
            "text/plain": [
              "STATION              object\n",
              "STATION_NAME         object\n",
              "ELEVATION            object\n",
              "LATITUDE             object\n",
              "LONGITUDE            object\n",
              "HPCP                float64\n",
              "Measurement Flag     object\n",
              "Quality Flag         object\n",
              "dtype: object"
            ]
          },
          "metadata": {
            "tags": []
          },
          "execution_count": 15
        }
      ]
    },
    {
      "cell_type": "code",
      "metadata": {
        "colab": {
          "base_uri": "https://localhost:8080/",
          "height": 235
        },
        "id": "DZNYQP8tlYLF",
        "outputId": "bfa80e24-8d2e-4d87-d6a7-4f24af8bdbf8"
      },
      "source": [
        "ar_precip_1980_2013.head()"
      ],
      "execution_count": 16,
      "outputs": [
        {
          "output_type": "execute_result",
          "data": {
            "text/html": [
              "<div>\n",
              "<style scoped>\n",
              "    .dataframe tbody tr th:only-of-type {\n",
              "        vertical-align: middle;\n",
              "    }\n",
              "\n",
              "    .dataframe tbody tr th {\n",
              "        vertical-align: top;\n",
              "    }\n",
              "\n",
              "    .dataframe thead th {\n",
              "        text-align: right;\n",
              "    }\n",
              "</style>\n",
              "<table border=\"1\" class=\"dataframe\">\n",
              "  <thead>\n",
              "    <tr style=\"text-align: right;\">\n",
              "      <th></th>\n",
              "      <th>STATION</th>\n",
              "      <th>STATION_NAME</th>\n",
              "      <th>ELEVATION</th>\n",
              "      <th>LATITUDE</th>\n",
              "      <th>LONGITUDE</th>\n",
              "      <th>HPCP</th>\n",
              "      <th>Measurement Flag</th>\n",
              "      <th>Quality Flag</th>\n",
              "    </tr>\n",
              "    <tr>\n",
              "      <th>DATE</th>\n",
              "      <th></th>\n",
              "      <th></th>\n",
              "      <th></th>\n",
              "      <th></th>\n",
              "      <th></th>\n",
              "      <th></th>\n",
              "      <th></th>\n",
              "      <th></th>\n",
              "    </tr>\n",
              "  </thead>\n",
              "  <tbody>\n",
              "    <tr>\n",
              "      <th>1980-01-01 01:00:00</th>\n",
              "      <td>COOP:035320</td>\n",
              "      <td>NORTH LITTLE ROCK AIRPORT AR US</td>\n",
              "      <td>171.6</td>\n",
              "      <td>34.83333</td>\n",
              "      <td>-92.26667</td>\n",
              "      <td>0.00</td>\n",
              "      <td>g</td>\n",
              "      <td></td>\n",
              "    </tr>\n",
              "    <tr>\n",
              "      <th>1980-01-03 02:00:00</th>\n",
              "      <td>COOP:035320</td>\n",
              "      <td>NORTH LITTLE ROCK AIRPORT AR US</td>\n",
              "      <td>171.6</td>\n",
              "      <td>34.83333</td>\n",
              "      <td>-92.26667</td>\n",
              "      <td>0.01</td>\n",
              "      <td></td>\n",
              "      <td></td>\n",
              "    </tr>\n",
              "    <tr>\n",
              "      <th>1980-01-03 03:00:00</th>\n",
              "      <td>COOP:035320</td>\n",
              "      <td>NORTH LITTLE ROCK AIRPORT AR US</td>\n",
              "      <td>171.6</td>\n",
              "      <td>34.83333</td>\n",
              "      <td>-92.26667</td>\n",
              "      <td>0.01</td>\n",
              "      <td></td>\n",
              "      <td></td>\n",
              "    </tr>\n",
              "    <tr>\n",
              "      <th>1980-01-03 04:00:00</th>\n",
              "      <td>COOP:035320</td>\n",
              "      <td>NORTH LITTLE ROCK AIRPORT AR US</td>\n",
              "      <td>171.6</td>\n",
              "      <td>34.83333</td>\n",
              "      <td>-92.26667</td>\n",
              "      <td>0.01</td>\n",
              "      <td></td>\n",
              "      <td></td>\n",
              "    </tr>\n",
              "    <tr>\n",
              "      <th>1980-01-03 05:00:00</th>\n",
              "      <td>COOP:035320</td>\n",
              "      <td>NORTH LITTLE ROCK AIRPORT AR US</td>\n",
              "      <td>171.6</td>\n",
              "      <td>34.83333</td>\n",
              "      <td>-92.26667</td>\n",
              "      <td>0.02</td>\n",
              "      <td></td>\n",
              "      <td></td>\n",
              "    </tr>\n",
              "  </tbody>\n",
              "</table>\n",
              "</div>"
            ],
            "text/plain": [
              "                         STATION  ... Quality Flag\n",
              "DATE                              ...             \n",
              "1980-01-01 01:00:00  COOP:035320  ...             \n",
              "1980-01-03 02:00:00  COOP:035320  ...             \n",
              "1980-01-03 03:00:00  COOP:035320  ...             \n",
              "1980-01-03 04:00:00  COOP:035320  ...             \n",
              "1980-01-03 05:00:00  COOP:035320  ...             \n",
              "\n",
              "[5 rows x 8 columns]"
            ]
          },
          "metadata": {
            "tags": []
          },
          "execution_count": 16
        }
      ]
    },
    {
      "cell_type": "code",
      "metadata": {
        "colab": {
          "base_uri": "https://localhost:8080/",
          "height": 450
        },
        "id": "BKzpPksvkHRI",
        "outputId": "3ab74fbf-647f-4627-edfc-ed905825091b"
      },
      "source": [
        "# resample hourly data to monthly\r\n",
        "ar_precip_1980_2013_monthly=ar_precip_1980_2013.resample('M').sum()\r\n",
        "\r\n",
        "ar_precip_1980_2013_monthly"
      ],
      "execution_count": 17,
      "outputs": [
        {
          "output_type": "execute_result",
          "data": {
            "text/html": [
              "<div>\n",
              "<style scoped>\n",
              "    .dataframe tbody tr th:only-of-type {\n",
              "        vertical-align: middle;\n",
              "    }\n",
              "\n",
              "    .dataframe tbody tr th {\n",
              "        vertical-align: top;\n",
              "    }\n",
              "\n",
              "    .dataframe thead th {\n",
              "        text-align: right;\n",
              "    }\n",
              "</style>\n",
              "<table border=\"1\" class=\"dataframe\">\n",
              "  <thead>\n",
              "    <tr style=\"text-align: right;\">\n",
              "      <th></th>\n",
              "      <th>HPCP</th>\n",
              "    </tr>\n",
              "    <tr>\n",
              "      <th>DATE</th>\n",
              "      <th></th>\n",
              "    </tr>\n",
              "  </thead>\n",
              "  <tbody>\n",
              "    <tr>\n",
              "      <th>1980-01-31</th>\n",
              "      <td>2.84</td>\n",
              "    </tr>\n",
              "    <tr>\n",
              "      <th>1980-02-29</th>\n",
              "      <td>1.26</td>\n",
              "    </tr>\n",
              "    <tr>\n",
              "      <th>1980-03-31</th>\n",
              "      <td>4.87</td>\n",
              "    </tr>\n",
              "    <tr>\n",
              "      <th>1980-04-30</th>\n",
              "      <td>7.50</td>\n",
              "    </tr>\n",
              "    <tr>\n",
              "      <th>1980-05-31</th>\n",
              "      <td>7.21</td>\n",
              "    </tr>\n",
              "    <tr>\n",
              "      <th>...</th>\n",
              "      <td>...</td>\n",
              "    </tr>\n",
              "    <tr>\n",
              "      <th>2013-08-31</th>\n",
              "      <td>5.36</td>\n",
              "    </tr>\n",
              "    <tr>\n",
              "      <th>2013-09-30</th>\n",
              "      <td>7.61</td>\n",
              "    </tr>\n",
              "    <tr>\n",
              "      <th>2013-10-31</th>\n",
              "      <td>7.01</td>\n",
              "    </tr>\n",
              "    <tr>\n",
              "      <th>2013-11-30</th>\n",
              "      <td>8.92</td>\n",
              "    </tr>\n",
              "    <tr>\n",
              "      <th>2013-12-31</th>\n",
              "      <td>17.84</td>\n",
              "    </tr>\n",
              "  </tbody>\n",
              "</table>\n",
              "<p>408 rows × 1 columns</p>\n",
              "</div>"
            ],
            "text/plain": [
              "             HPCP\n",
              "DATE             \n",
              "1980-01-31   2.84\n",
              "1980-02-29   1.26\n",
              "1980-03-31   4.87\n",
              "1980-04-30   7.50\n",
              "1980-05-31   7.21\n",
              "...           ...\n",
              "2013-08-31   5.36\n",
              "2013-09-30   7.61\n",
              "2013-10-31   7.01\n",
              "2013-11-30   8.92\n",
              "2013-12-31  17.84\n",
              "\n",
              "[408 rows x 1 columns]"
            ]
          },
          "metadata": {
            "tags": []
          },
          "execution_count": 17
        }
      ]
    },
    {
      "cell_type": "code",
      "metadata": {
        "colab": {
          "base_uri": "https://localhost:8080/",
          "height": 235
        },
        "id": "sP0k8Q_VmPdG",
        "outputId": "b4ee2c15-21b6-4016-c4bf-ad0e2e67cd7f"
      },
      "source": [
        "# Subset data from 1980-01-31 to 1985-12-31 and 2008-01-31 to 2013-12-31\r\n",
        "# Note, since the hourly data has been resampled to monthly data, \r\n",
        "# the date stampe for each month is the last day for that month, e.g., 01-31\r\n",
        "ar_precip_1980_2013_monthly_8085=ar_precip_1980_2013_monthly['1980-01-31':'1985-12-31']\r\n",
        "ar_precip_1980_2013_monthly_0812=ar_precip_1980_2013_monthly['2008-01-31':'2013-12-31']\r\n",
        "\r\n",
        "ar_precip_1980_2013_monthly_8085.head()"
      ],
      "execution_count": 18,
      "outputs": [
        {
          "output_type": "execute_result",
          "data": {
            "text/html": [
              "<div>\n",
              "<style scoped>\n",
              "    .dataframe tbody tr th:only-of-type {\n",
              "        vertical-align: middle;\n",
              "    }\n",
              "\n",
              "    .dataframe tbody tr th {\n",
              "        vertical-align: top;\n",
              "    }\n",
              "\n",
              "    .dataframe thead th {\n",
              "        text-align: right;\n",
              "    }\n",
              "</style>\n",
              "<table border=\"1\" class=\"dataframe\">\n",
              "  <thead>\n",
              "    <tr style=\"text-align: right;\">\n",
              "      <th></th>\n",
              "      <th>HPCP</th>\n",
              "    </tr>\n",
              "    <tr>\n",
              "      <th>DATE</th>\n",
              "      <th></th>\n",
              "    </tr>\n",
              "  </thead>\n",
              "  <tbody>\n",
              "    <tr>\n",
              "      <th>2008-01-31</th>\n",
              "      <td>4.53</td>\n",
              "    </tr>\n",
              "    <tr>\n",
              "      <th>2008-02-29</th>\n",
              "      <td>11.59</td>\n",
              "    </tr>\n",
              "    <tr>\n",
              "      <th>2008-03-31</th>\n",
              "      <td>26.16</td>\n",
              "    </tr>\n",
              "    <tr>\n",
              "      <th>2008-04-30</th>\n",
              "      <td>24.58</td>\n",
              "    </tr>\n",
              "    <tr>\n",
              "      <th>2008-05-31</th>\n",
              "      <td>13.04</td>\n",
              "    </tr>\n",
              "  </tbody>\n",
              "</table>\n",
              "</div>"
            ],
            "text/plain": [
              "             HPCP\n",
              "DATE             \n",
              "2008-01-31   4.53\n",
              "2008-02-29  11.59\n",
              "2008-03-31  26.16\n",
              "2008-04-30  24.58\n",
              "2008-05-31  13.04"
            ]
          },
          "metadata": {
            "tags": []
          },
          "execution_count": 18
        }
      ]
    },
    {
      "cell_type": "code",
      "metadata": {
        "colab": {
          "base_uri": "https://localhost:8080/",
          "height": 235
        },
        "id": "_ztoZfb8nZjU",
        "outputId": "f20ee1cf-c181-42f6-8a2d-257216cd580b"
      },
      "source": [
        "ar_precip_1980_2013_monthly_0812.head()"
      ],
      "execution_count": 19,
      "outputs": [
        {
          "output_type": "execute_result",
          "data": {
            "text/html": [
              "<div>\n",
              "<style scoped>\n",
              "    .dataframe tbody tr th:only-of-type {\n",
              "        vertical-align: middle;\n",
              "    }\n",
              "\n",
              "    .dataframe tbody tr th {\n",
              "        vertical-align: top;\n",
              "    }\n",
              "\n",
              "    .dataframe thead th {\n",
              "        text-align: right;\n",
              "    }\n",
              "</style>\n",
              "<table border=\"1\" class=\"dataframe\">\n",
              "  <thead>\n",
              "    <tr style=\"text-align: right;\">\n",
              "      <th></th>\n",
              "      <th>HPCP</th>\n",
              "    </tr>\n",
              "    <tr>\n",
              "      <th>DATE</th>\n",
              "      <th></th>\n",
              "    </tr>\n",
              "  </thead>\n",
              "  <tbody>\n",
              "    <tr>\n",
              "      <th>2008-01-31</th>\n",
              "      <td>4.53</td>\n",
              "    </tr>\n",
              "    <tr>\n",
              "      <th>2008-02-29</th>\n",
              "      <td>11.59</td>\n",
              "    </tr>\n",
              "    <tr>\n",
              "      <th>2008-03-31</th>\n",
              "      <td>26.16</td>\n",
              "    </tr>\n",
              "    <tr>\n",
              "      <th>2008-04-30</th>\n",
              "      <td>24.58</td>\n",
              "    </tr>\n",
              "    <tr>\n",
              "      <th>2008-05-31</th>\n",
              "      <td>13.04</td>\n",
              "    </tr>\n",
              "  </tbody>\n",
              "</table>\n",
              "</div>"
            ],
            "text/plain": [
              "             HPCP\n",
              "DATE             \n",
              "2008-01-31   4.53\n",
              "2008-02-29  11.59\n",
              "2008-03-31  26.16\n",
              "2008-04-30  24.58\n",
              "2008-05-31  13.04"
            ]
          },
          "metadata": {
            "tags": []
          },
          "execution_count": 19
        }
      ]
    },
    {
      "cell_type": "code",
      "metadata": {
        "colab": {
          "base_uri": "https://localhost:8080/",
          "height": 447
        },
        "id": "kGcTBCbTndek",
        "outputId": "31ac6b12-66b7-4c08-c96c-238a916ea452"
      },
      "source": [
        "# Plot the first time series\r\n",
        "# Create figure and plot space\r\n",
        "fig, ax = plt.subplots(figsize=(12, 6))\r\n",
        "\r\n",
        "# Add x-axis and y-axis\r\n",
        "ax.scatter(ar_precip_1980_2013_monthly_8085.index.values,\r\n",
        "           ar_precip_1980_2013_monthly_8085['HPCP'],\r\n",
        "           color='purple')\r\n",
        "\r\n",
        "# Set title and labels for axes\r\n",
        "ax.set(xlabel=\"Date\",\r\n",
        "       ylabel=\"Precipitation (inches)\",\r\n",
        "       title=\"Monthly Precipitation - Arkansas\\n 1980-1985\")\r\n",
        "\r\n",
        "plt.show()"
      ],
      "execution_count": 20,
      "outputs": [
        {
          "output_type": "display_data",
          "data": {
            "image/png": "[encoded data removed]",
            "text/plain": [
              "<Figure size 864x432 with 1 Axes>"
            ]
          },
          "metadata": {
            "tags": []
          }
        }
      ]
    },
    {
      "cell_type": "code",
      "metadata": {
        "colab": {
          "base_uri": "https://localhost:8080/",
          "height": 447
        },
        "id": "PNHhprcsnyoB",
        "outputId": "b376c6da-af2b-4c9e-d4e1-872ab7f6256b"
      },
      "source": [
        "# Plot the first time series\r\n",
        "# Create figure and plot space\r\n",
        "fig, ax = plt.subplots(figsize=(12, 6))\r\n",
        "\r\n",
        "# Add x-axis and y-axis\r\n",
        "ax.scatter(ar_precip_1980_2013_monthly_0812.index.values,\r\n",
        "           ar_precip_1980_2013_monthly_0812['HPCP'],\r\n",
        "           color='green')\r\n",
        "\r\n",
        "# Set title and labels for axes\r\n",
        "ax.set(xlabel=\"Date\",\r\n",
        "       ylabel=\"Precipitation (inches)\",\r\n",
        "       title=\"Monthly Precipitation - Arkansas\\n 2008-2013\")\r\n",
        "\r\n",
        "plt.show()"
      ],
      "execution_count": 21,
      "outputs": [
        {
          "output_type": "display_data",
          "data": {
            "image/png": "[encoded data removed]",
            "text/plain": [
              "<Figure size 864x432 with 1 Axes>"
            ]
          },
          "metadata": {
            "tags": []
          }
        }
      ]
    }
  ]
}