{
  "nbformat": 4,
  "nbformat_minor": 0,
  "metadata": {
    "colab": {
      "name": "Lecture04: Functions.ipynb",
      "provenance": [],
      "collapsed_sections": [],
      "authorship_tag": "ABX9TyNfRjG5R9Q9EaMGmEu0UaTU",
      "include_colab_link": true
    },
    "kernelspec": {
      "name": "python3",
      "display_name": "Python 3"
    }
  },
  "cells": [
    {
      "cell_type": "markdown",
      "metadata": {
        "id": "view-in-github",
        "colab_type": "text"
      },
      "source": [
        "<a href=\"https://colab.research.google.com/github/yaqianhe/GIA/blob/main/Lecture04_Functions.ipynb\" target=\"_parent\"><img src=\"https://colab.research.google.com/assets/colab-badge.svg\" alt=\"Open In Colab\"/></a>"
      ]
    },
    {
      "cell_type": "markdown",
      "metadata": {
        "id": "aGY9UlQQBHms"
      },
      "source": [
        "## Lecture 4: Functions \n",
        "## Yaqian He\n",
        "## Department of Geography\n",
        "## University of Central Arkansas\n"
      ]
    },
    {
      "cell_type": "markdown",
      "metadata": {
        "id": "ZW1s40ILDm5V"
      },
      "source": [
        "##1. Function types in Python\n",
        "\n",
        "There are two kinds of functions in Python:\n",
        "\n",
        "- **Built-in functions** that are provided as part of Python, such as print(), type(), float(), int(), etc.\n",
        "\n",
        "- **Functions** that we define ourselves and then use.\n",
        "\n",
        "We treat that built-in function names as \"new\" reserved words (i.e., we avoid them as variable names).\n",
        "\n",
        "In Python, a **function** is some reusable code that takes **arguments(s)** as input, does some computation, and then returns a result or results.\n"
      ]
    },
    {
      "cell_type": "code",
      "metadata": {
        "id": "8hTq2r3cFkV_",
        "colab": {
          "base_uri": "https://localhost:8080/"
        },
        "outputId": "95055e1e-163d-4cf0-8c44-64be220a0256"
      },
      "source": [
        "# Example 1\n",
        "big = max('hello world')\n",
        "print(big)"
      ],
      "execution_count": null,
      "outputs": [
        {
          "output_type": "stream",
          "name": "stdout",
          "text": [
            "w\n"
          ]
        }
      ]
    },
    {
      "cell_type": "code",
      "metadata": {
        "id": "SBXMUfP4Hpvk",
        "colab": {
          "base_uri": "https://localhost:8080/"
        },
        "outputId": "5e2268de-0d19-418b-b5f9-afdd74957053"
      },
      "source": [
        "# Example 2\n",
        "tiny = min('helloworld')\n",
        "print(tiny)"
      ],
      "execution_count": null,
      "outputs": [
        {
          "output_type": "stream",
          "name": "stdout",
          "text": [
            "d\n"
          ]
        }
      ]
    },
    {
      "cell_type": "code",
      "source": [
        "big = max('Hello World') #this difference is due to the lager ASCII value of lowercase letter than uppercase letter\n",
        "print(big)"
      ],
      "metadata": {
        "id": "PRFDBOmbD2Ul",
        "colab": {
          "base_uri": "https://localhost:8080/"
        },
        "outputId": "5fe242a3-0e64-4696-9913-f5b1a6c2a448"
      },
      "execution_count": null,
      "outputs": [
        {
          "output_type": "stream",
          "name": "stdout",
          "text": [
            "r\n"
          ]
        }
      ]
    },
    {
      "cell_type": "code",
      "source": [
        "big=max(12,11)\n",
        "print(big)"
      ],
      "metadata": {
        "id": "VniZyWi48jOQ",
        "colab": {
          "base_uri": "https://localhost:8080/"
        },
        "outputId": "1d0861a2-165c-4f43-dacc-b6011d035c18"
      },
      "execution_count": null,
      "outputs": [
        {
          "output_type": "stream",
          "name": "stdout",
          "text": [
            "12\n"
          ]
        }
      ]
    },
    {
      "cell_type": "markdown",
      "metadata": {
        "id": "IgEZyJ27ILB5"
      },
      "source": [
        "A **function** is **some stored code** that we use. A function takes some **input** and produces an **output**.\n",
        "\n",
        "\n",
        "![picture](https://drive.google.com/uc?export=view&id=12h4in2emkve9ZsTYFTKGQ_RB5An7Zzct)\n",
        "\n",
        "(Reference:http://www.dr-chuck.com/)"
      ]
    },
    {
      "cell_type": "markdown",
      "metadata": {
        "id": "KbfD003zKFVw"
      },
      "source": [
        "##2. Define your own function\n",
        "- We define a **function** using the **def** reserved word followed by optional parameters in parentheses.\n",
        "\n",
        "- We indent the body of the function.\n",
        "\n",
        "- This **defines** the fuction but **DOES NOT** execute the body of the function\n"
      ]
    },
    {
      "cell_type": "code",
      "metadata": {
        "id": "t1RZSqIFBG7w",
        "colab": {
          "base_uri": "https://localhost:8080/"
        },
        "outputId": "cb19e68d-4e79-4d4b-8cae-fd9fb337c643"
      },
      "source": [
        "# Example 1\n",
        "def thing():\n",
        "  print('Hello')\n",
        "  print('GIA')\n",
        "print('Have a fun')"
      ],
      "execution_count": null,
      "outputs": [
        {
          "output_type": "stream",
          "name": "stdout",
          "text": [
            "Have a fun\n"
          ]
        }
      ]
    },
    {
      "cell_type": "markdown",
      "metadata": {
        "id": "tZ28ld0BLGmd"
      },
      "source": [
        "Once we have **defined** a function, We **call/invoke** the **function** by using the function name, parentheses, and arguments in an expression.\n",
        "\n",
        "This is the **store** and **reuse** pattern."
      ]
    },
    {
      "cell_type": "code",
      "metadata": {
        "id": "WZobwxaoK9mu",
        "colab": {
          "base_uri": "https://localhost:8080/"
        },
        "outputId": "8f06ff65-4c92-436f-d5de-0fee00046999"
      },
      "source": [
        "# Example 1\n",
        "def thing():\n",
        "  print('Hello')\n",
        "  print('GIA')\n",
        "thing()\n",
        "print('Have a fun')"
      ],
      "execution_count": null,
      "outputs": [
        {
          "output_type": "stream",
          "name": "stdout",
          "text": [
            "Hello\n",
            "GIA\n",
            "Have a fun\n"
          ]
        }
      ]
    },
    {
      "cell_type": "code",
      "metadata": {
        "id": "U0gbFpvlC1qw",
        "colab": {
          "base_uri": "https://localhost:8080/"
        },
        "outputId": "18b1d293-9e1a-4a1f-b526-23b2205e08ab"
      },
      "source": [
        "print('Have a fun')\n",
        "thing()"
      ],
      "execution_count": null,
      "outputs": [
        {
          "output_type": "stream",
          "name": "stdout",
          "text": [
            "Have a fun\n",
            "Hello\n",
            "GIA\n"
          ]
        }
      ]
    },
    {
      "cell_type": "markdown",
      "metadata": {
        "id": "WqWlY1NkLisx"
      },
      "source": [
        "##2.1 Arguments\n",
        "- An **argument** is an value we pass into the **function** as its **input** when we call the function\n",
        "\n",
        "- We use **arguments** so we can direct the **function** to do different kinds of work when we call it at **different** times.\n",
        "\n",
        "- We put the **arguments** in parentheses after the **name** of the function."
      ]
    },
    {
      "cell_type": "code",
      "metadata": {
        "id": "Dqk4inu1F2KN",
        "colab": {
          "base_uri": "https://localhost:8080/"
        },
        "outputId": "6531ae84-fa1d-4469-905c-8dcea6e2892e"
      },
      "source": [
        "# Example 1\n",
        "def thing(a):\n",
        "  print(a)\n",
        "thing('GIA')"
      ],
      "execution_count": null,
      "outputs": [
        {
          "output_type": "stream",
          "name": "stdout",
          "text": [
            "GIA\n"
          ]
        }
      ]
    },
    {
      "cell_type": "markdown",
      "metadata": {
        "id": "p72OhV3WMTaJ"
      },
      "source": [
        "##2.2 Parameters\n",
        "- A **parameter** is a variable which we use in the function **definition**. \n",
        "\n",
        "- It is a \"handle\" that allows the code in the **function** to access the **arguments** for a particular **function** invocation."
      ]
    },
    {
      "cell_type": "code",
      "metadata": {
        "id": "cdtH4PlRNEsO",
        "colab": {
          "base_uri": "https://localhost:8080/"
        },
        "outputId": "61557509-0524-407a-f8be-95e1deacc7ce"
      },
      "source": [
        "# Example 1\n",
        "def thing(a):\n",
        "  print(a)\n",
        "thing('Hello')"
      ],
      "execution_count": null,
      "outputs": [
        {
          "output_type": "stream",
          "name": "stdout",
          "text": [
            "Hello\n"
          ]
        }
      ]
    },
    {
      "cell_type": "code",
      "metadata": {
        "id": "_GFHqZ1lHaLz"
      },
      "source": [
        "thing(3)"
      ],
      "execution_count": null,
      "outputs": []
    },
    {
      "cell_type": "code",
      "metadata": {
        "id": "p6u6N20yGPBQ",
        "colab": {
          "base_uri": "https://localhost:8080/"
        },
        "outputId": "bd1f60ea-4553-415d-d6c3-4821221fc094"
      },
      "source": [
        "thing('GIA')"
      ],
      "execution_count": null,
      "outputs": [
        {
          "output_type": "stream",
          "name": "stdout",
          "text": [
            "GIA\n"
          ]
        }
      ]
    },
    {
      "cell_type": "code",
      "metadata": {
        "id": "bWQTlrMTHJHM",
        "colab": {
          "base_uri": "https://localhost:8080/"
        },
        "outputId": "c755348e-d773-45bb-fe18-04547e5384ed"
      },
      "source": [
        "thing(7)"
      ],
      "execution_count": null,
      "outputs": [
        {
          "output_type": "stream",
          "name": "stdout",
          "text": [
            "7\n"
          ]
        }
      ]
    },
    {
      "cell_type": "code",
      "metadata": {
        "id": "5LU57xpPNMcj"
      },
      "source": [
        "# Example 2\n",
        "def thing():\n",
        "  print('Hello')\n",
        "thing('Hello')"
      ],
      "execution_count": null,
      "outputs": []
    },
    {
      "cell_type": "markdown",
      "metadata": {
        "id": "5m3DvnX1O6de"
      },
      "source": [
        "##2.3 Multiple parameters/arguments\n",
        "- We can define more than one **parameter** in the **function definition**.\n",
        "\n",
        "- We simply add more **arguments** when we call the **function**.\n",
        "\n",
        "- We match the number and order of argumetns and parameters."
      ]
    },
    {
      "cell_type": "code",
      "metadata": {
        "id": "-5Q39irbGrcy",
        "colab": {
          "base_uri": "https://localhost:8080/"
        },
        "outputId": "89dc89ca-dc4c-4a78-f34a-3af1c89967fa"
      },
      "source": [
        "# Example 1\n",
        "def thing(a,b):\n",
        "  print(a+b)\n",
        "thing('Hello',' GIA')"
      ],
      "execution_count": null,
      "outputs": [
        {
          "output_type": "stream",
          "name": "stdout",
          "text": [
            "Hello GIA\n"
          ]
        }
      ]
    },
    {
      "cell_type": "code",
      "metadata": {
        "id": "zMYnBLJZG0SS",
        "colab": {
          "base_uri": "https://localhost:8080/"
        },
        "outputId": "742f4d26-52a6-4396-940a-b28ebc5dc612"
      },
      "source": [
        "thing(3,4)"
      ],
      "execution_count": null,
      "outputs": [
        {
          "output_type": "stream",
          "name": "stdout",
          "text": [
            "7\n"
          ]
        }
      ]
    },
    {
      "cell_type": "code",
      "metadata": {
        "id": "bM60PgS1PYLO",
        "colab": {
          "base_uri": "https://localhost:8080/",
          "height": 165
        },
        "outputId": "51d40b4f-76f3-4e3b-f5a3-0a923390740d"
      },
      "source": [
        "thing('Hello', ' GIA', '2021')"
      ],
      "execution_count": null,
      "outputs": [
        {
          "output_type": "error",
          "ename": "TypeError",
          "evalue": "ignored",
          "traceback": [
            "\u001b[0;31m---------------------------------------------------------------------------\u001b[0m",
            "\u001b[0;31mTypeError\u001b[0m                                 Traceback (most recent call last)",
            "\u001b[0;32m<ipython-input-18-ae3b2f205f6a>\u001b[0m in \u001b[0;36m<module>\u001b[0;34m()\u001b[0m\n\u001b[0;32m----> 1\u001b[0;31m \u001b[0mthing\u001b[0m\u001b[0;34m(\u001b[0m\u001b[0;34m'Hello'\u001b[0m\u001b[0;34m,\u001b[0m \u001b[0;34m' GIA'\u001b[0m\u001b[0;34m,\u001b[0m \u001b[0;34m'2021'\u001b[0m\u001b[0;34m)\u001b[0m\u001b[0;34m\u001b[0m\u001b[0;34m\u001b[0m\u001b[0m\n\u001b[0m",
            "\u001b[0;31mTypeError\u001b[0m: thing() takes 2 positional arguments but 3 were given"
          ]
        }
      ]
    },
    {
      "cell_type": "code",
      "metadata": {
        "id": "nxRdn1oMlRz7",
        "colab": {
          "base_uri": "https://localhost:8080/",
          "height": 269
        },
        "outputId": "8f468969-8e09-4b79-fd4a-5e5620962f46"
      },
      "source": [
        "thing(3,'Hello')"
      ],
      "execution_count": null,
      "outputs": [
        {
          "output_type": "error",
          "ename": "TypeError",
          "evalue": "ignored",
          "traceback": [
            "\u001b[0;31m---------------------------------------------------------------------------\u001b[0m",
            "\u001b[0;31mTypeError\u001b[0m                                 Traceback (most recent call last)",
            "\u001b[0;32m<ipython-input-19-8c87abd54777>\u001b[0m in \u001b[0;36m<module>\u001b[0;34m()\u001b[0m\n\u001b[0;32m----> 1\u001b[0;31m \u001b[0mthing\u001b[0m\u001b[0;34m(\u001b[0m\u001b[0;36m3\u001b[0m\u001b[0;34m,\u001b[0m\u001b[0;34m'Hello'\u001b[0m\u001b[0;34m)\u001b[0m\u001b[0;34m\u001b[0m\u001b[0;34m\u001b[0m\u001b[0m\n\u001b[0m",
            "\u001b[0;32m<ipython-input-16-395a2d0a2dee>\u001b[0m in \u001b[0;36mthing\u001b[0;34m(a, b)\u001b[0m\n\u001b[1;32m      1\u001b[0m \u001b[0;31m# Example 1\u001b[0m\u001b[0;34m\u001b[0m\u001b[0;34m\u001b[0m\u001b[0;34m\u001b[0m\u001b[0m\n\u001b[1;32m      2\u001b[0m \u001b[0;32mdef\u001b[0m \u001b[0mthing\u001b[0m\u001b[0;34m(\u001b[0m\u001b[0ma\u001b[0m\u001b[0;34m,\u001b[0m\u001b[0mb\u001b[0m\u001b[0;34m)\u001b[0m\u001b[0;34m:\u001b[0m\u001b[0;34m\u001b[0m\u001b[0;34m\u001b[0m\u001b[0m\n\u001b[0;32m----> 3\u001b[0;31m   \u001b[0mprint\u001b[0m\u001b[0;34m(\u001b[0m\u001b[0ma\u001b[0m\u001b[0;34m+\u001b[0m\u001b[0mb\u001b[0m\u001b[0;34m)\u001b[0m\u001b[0;34m\u001b[0m\u001b[0;34m\u001b[0m\u001b[0m\n\u001b[0m\u001b[1;32m      4\u001b[0m \u001b[0mthing\u001b[0m\u001b[0;34m(\u001b[0m\u001b[0;34m'Hello'\u001b[0m\u001b[0;34m,\u001b[0m\u001b[0;34m' GIA'\u001b[0m\u001b[0;34m)\u001b[0m\u001b[0;34m\u001b[0m\u001b[0;34m\u001b[0m\u001b[0m\n",
            "\u001b[0;31mTypeError\u001b[0m: unsupported operand type(s) for +: 'int' and 'str'"
          ]
        }
      ]
    },
    {
      "cell_type": "code",
      "metadata": {
        "id": "Ft3IQXP_lX8k",
        "colab": {
          "base_uri": "https://localhost:8080/"
        },
        "outputId": "f67701b9-ed78-454a-ca75-f8b91ffcdae8"
      },
      "source": [
        "thing('3','Hello')"
      ],
      "execution_count": null,
      "outputs": [
        {
          "output_type": "stream",
          "name": "stdout",
          "text": [
            "3Hello\n"
          ]
        }
      ]
    },
    {
      "cell_type": "markdown",
      "metadata": {
        "id": "C_Zet-2-NpPY"
      },
      "source": [
        "##2.4 Return values\n",
        "- Often a function will take its arguments, do some computation, and **return** a value to be used as the value of the function call in the **calling expression**. The **return** keyword is used for this.\n",
        "- The **return** statement ends the **function** execution and \"sends back\" the **result** of the **function**."
      ]
    },
    {
      "cell_type": "code",
      "metadata": {
        "id": "Qn8e7TEPN-l4",
        "colab": {
          "base_uri": "https://localhost:8080/",
          "height": 35
        },
        "outputId": "082a1a0a-29a1-4832-b151-225cb3f2135d"
      },
      "source": [
        "# Example 1\n",
        "def thing():\n",
        "  return 'Hello'\n",
        "thing()"
      ],
      "execution_count": null,
      "outputs": [
        {
          "output_type": "execute_result",
          "data": {
            "application/vnd.google.colaboratory.intrinsic+json": {
              "type": "string"
            },
            "text/plain": [
              "'Hello'"
            ]
          },
          "metadata": {},
          "execution_count": 21
        }
      ]
    },
    {
      "cell_type": "code",
      "metadata": {
        "id": "0J0XgaH4Om6p",
        "colab": {
          "base_uri": "https://localhost:8080/",
          "height": 35
        },
        "outputId": "5b249a4e-cfc9-4d2e-ca6e-456457887128"
      },
      "source": [
        "# Example 1\n",
        "def thing():\n",
        "  return 'Hello GIA'\n",
        "  return 'GIA'\n",
        "thing()"
      ],
      "execution_count": null,
      "outputs": [
        {
          "output_type": "execute_result",
          "data": {
            "application/vnd.google.colaboratory.intrinsic+json": {
              "type": "string"
            },
            "text/plain": [
              "'Hello GIA'"
            ]
          },
          "metadata": {},
          "execution_count": 23
        }
      ]
    },
    {
      "cell_type": "markdown",
      "metadata": {
        "id": "ZkbcnwMqP4Oy"
      },
      "source": [
        "##3. Void and fruitful function\n",
        "- A \"fruitful\" function is one that produces a result (or return value)\n",
        "- Voild functions are \"not fruitful\", it does not return a value."
      ]
    },
    {
      "cell_type": "markdown",
      "metadata": {
        "id": "FgctVxjgQcwJ"
      },
      "source": [
        "##4. To function or not to function\n",
        "- Organize your code into \"paragraphs\" - capture a complete thought and \"name it\".\n",
        "- Don't repeat yourself - make it work once and then reuse it.\n",
        "- If something gets too long or complex, break it up into logical chunks and put those chunks in functions.\n",
        "- Make a library of common stuff that you do over and over - perhaps share this with your friends.\n",
        "\n"
      ]
    },
    {
      "cell_type": "markdown",
      "metadata": {
        "id": "aJZEW7PJSA9H"
      },
      "source": [
        "Reference: http://www.dr-chuck.com/"
      ]
    }
  ]
}