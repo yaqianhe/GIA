{
  "nbformat": 4,
  "nbformat_minor": 0,
  "metadata": {
    "colab": {
      "name": "Exercise4.ipynb",
      "provenance": [],
      "collapsed_sections": [],
      "authorship_tag": "ABX9TyNq2rec+XaKS8caLcBra6de",
      "include_colab_link": true
    },
    "kernelspec": {
      "name": "python3",
      "display_name": "Python 3"
    }
  },
  "cells": [
    {
      "cell_type": "markdown",
      "metadata": {
        "id": "view-in-github",
        "colab_type": "text"
      },
      "source": [
        "<a href=\"https://colab.research.google.com/github/yaqianhe/GIA/blob/main/Exercise4.ipynb\" target=\"_parent\"><img src=\"https://colab.research.google.com/assets/colab-badge.svg\" alt=\"Open In Colab\"/></a>"
      ]
    },
    {
      "cell_type": "markdown",
      "metadata": {
        "id": "kKYOvo2RrZoy"
      },
      "source": [
        "## Exercise 4\r\n",
        "There is a series of numeric values [10,20,40,65,60,80,90,200]. Find the maximum value and minimum value using an in-built function in python."
      ]
    },
    {
      "cell_type": "code",
      "metadata": {
        "colab": {
          "base_uri": "https://localhost:8080/"
        },
        "id": "5dDL2mZPsBCz",
        "outputId": "f6b841be-ed20-452b-f373-93c147636e22"
      },
      "source": [
        "# (1) This is the example code, you need to modify the variable name for your own\r\n",
        "# (2) You also want to define the variable name as mnemonic variable\r\n",
        "\r\n",
        "x= [10,20,40,65,60,80,90,200] #define a variable to store the values\r\n",
        "y=max(x) # max is the in-built fuction.\r\n",
        "z=min(x) # min is the in-bult fucation.\r\n",
        "print(y)\r\n",
        "print(z)\r\n"
      ],
      "execution_count": 1,
      "outputs": [
        {
          "output_type": "stream",
          "text": [
            "200\n",
            "10\n"
          ],
          "name": "stdout"
        }
      ]
    }
  ]
}