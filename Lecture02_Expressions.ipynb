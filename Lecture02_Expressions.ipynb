{
  "nbformat": 4,
  "nbformat_minor": 0,
  "metadata": {
    "colab": {
      "name": "Lecture02 Expressions.ipynb",
      "provenance": [],
      "collapsed_sections": [],
      "authorship_tag": "ABX9TyMKMnWdFb4SEiGq9B/FuDTB",
      "include_colab_link": true
    },
    "kernelspec": {
      "name": "python3",
      "display_name": "Python 3"
    }
  },
  "cells": [
    {
      "cell_type": "markdown",
      "metadata": {
        "id": "view-in-github",
        "colab_type": "text"
      },
      "source": [
        "<a href=\"https://colab.research.google.com/github/yaqianhe/GIA/blob/main/Lecture02_Expressions.ipynb\" target=\"_parent\"><img src=\"https://colab.research.google.com/assets/colab-badge.svg\" alt=\"Open In Colab\"/></a>"
      ]
    },
    {
      "cell_type": "markdown",
      "metadata": {
        "id": "AaOmrkAZMPuJ"
      },
      "source": [
        "## Lecture 2: Expressions \n",
        "## Yaqian He\n",
        "## Department of Geography\n",
        "## University of Central Arkansas"
      ]
    },
    {
      "cell_type": "markdown",
      "metadata": {
        "id": "tiYB4xchR3Y6"
      },
      "source": [
        "## 1. Constants\n",
        "- **Fixed values** such as numbers, letters, and strings, are called **\"constants\"** because their value does not change\n",
        "- Numeric **constants** are as you expect\n",
        "- String **constants** use single quotes (') or double quotes (\")"
      ]
    },
    {
      "cell_type": "code",
      "metadata": {
        "id": "DeH1X1ApPr4n",
        "colab": {
          "base_uri": "https://localhost:8080/"
        },
        "outputId": "97981032-9a38-45db-e340-7cc19c008140"
      },
      "source": [
        "print(123,98.6,10000,0.001)\n",
        "print(123)"
      ],
      "execution_count": null,
      "outputs": [
        {
          "output_type": "stream",
          "name": "stdout",
          "text": [
            "123 98.6 10000 0.001\n",
            "123\n"
          ]
        }
      ]
    },
    {
      "cell_type": "code",
      "metadata": {
        "id": "NP1jM7oE-I9f",
        "colab": {
          "base_uri": "https://localhost:8080/"
        },
        "outputId": "436f1c56-c39a-4a09-a974-b378f6595d1a"
      },
      "source": [
        "print('H',\"hello world\",'hello word')"
      ],
      "execution_count": null,
      "outputs": [
        {
          "output_type": "stream",
          "name": "stdout",
          "text": [
            "H hello world hello word\n"
          ]
        }
      ]
    },
    {
      "cell_type": "markdown",
      "metadata": {
        "id": "Mya9f3hrTTdD"
      },
      "source": [
        "## 2. Variables\n",
        "- A **variable** is a named place in the memory where a programmer can store data and later retrieve the data using the **variable** \"name\"\n",
        "- Programmers get to choose the names of the **variables**\n",
        "- You can change the contents of a **variable** in a later statement"
      ]
    },
    {
      "cell_type": "code",
      "metadata": {
        "id": "Pem3t6cuQAEC"
      },
      "source": [
        "x = 12.3\n",
        "y = 14"
      ],
      "execution_count": null,
      "outputs": []
    },
    {
      "cell_type": "code",
      "metadata": {
        "id": "HT6c_aM5VhfT",
        "colab": {
          "base_uri": "https://localhost:8080/"
        },
        "outputId": "10add6f8-a612-486a-fab9-124111c9b041"
      },
      "source": [
        "print(x,y)"
      ],
      "execution_count": null,
      "outputs": [
        {
          "output_type": "stream",
          "name": "stdout",
          "text": [
            "12.3 14\n"
          ]
        }
      ]
    },
    {
      "cell_type": "code",
      "metadata": {
        "id": "ATdAb8wCVovp"
      },
      "source": [
        "x = 1000"
      ],
      "execution_count": null,
      "outputs": []
    },
    {
      "cell_type": "code",
      "metadata": {
        "id": "lxKjxAw7VonQ",
        "colab": {
          "base_uri": "https://localhost:8080/"
        },
        "outputId": "189822cc-7bd0-4328-b0e2-58382eeebdb4"
      },
      "source": [
        "print(x)"
      ],
      "execution_count": null,
      "outputs": [
        {
          "output_type": "stream",
          "name": "stdout",
          "text": [
            "1000\n"
          ]
        }
      ]
    },
    {
      "cell_type": "markdown",
      "metadata": {
        "id": "WTFKDQBLV24Y"
      },
      "source": [
        "## 2.1 Python variable name rules\n",
        "- Must start with a letter or underscore '_'\n",
        "- Must consist of letters, numbers, and underscores\n",
        "- Case sensitive\n",
        "\n",
        "**Good:** spam eggs spam23 _speed\n",
        "\n",
        "**Bad:** 23spam #sign var.12\n",
        "\n",
        "**Different:** spam Spam SPAM"
      ]
    },
    {
      "cell_type": "code",
      "metadata": {
        "id": "bGvCP3z9W51I",
        "colab": {
          "base_uri": "https://localhost:8080/",
          "height": 130
        },
        "outputId": "656757d0-9a75-409d-a120-225c686f9127"
      },
      "source": [
        "23spam = 12"
      ],
      "execution_count": null,
      "outputs": [
        {
          "output_type": "error",
          "ename": "SyntaxError",
          "evalue": "ignored",
          "traceback": [
            "\u001b[0;36m  File \u001b[0;32m\"<ipython-input-7-9ba34f08ca2b>\"\u001b[0;36m, line \u001b[0;32m1\u001b[0m\n\u001b[0;31m    23spam = 12\u001b[0m\n\u001b[0m         ^\u001b[0m\n\u001b[0;31mSyntaxError\u001b[0m\u001b[0;31m:\u001b[0m invalid syntax\n"
          ]
        }
      ]
    },
    {
      "cell_type": "code",
      "metadata": {
        "id": "axumX-pcXCo_",
        "colab": {
          "base_uri": "https://localhost:8080/",
          "height": 183
        },
        "outputId": "20e6860c-bec4-4db9-ed05-093f99f2bda9"
      },
      "source": [
        "Spam = 12\n",
        "print(spam)"
      ],
      "execution_count": null,
      "outputs": [
        {
          "output_type": "error",
          "ename": "NameError",
          "evalue": "ignored",
          "traceback": [
            "\u001b[0;31m---------------------------------------------------------------------------\u001b[0m",
            "\u001b[0;31mNameError\u001b[0m                                 Traceback (most recent call last)",
            "\u001b[0;32m<ipython-input-8-193f6a4a6f15>\u001b[0m in \u001b[0;36m<module>\u001b[0;34m()\u001b[0m\n\u001b[1;32m      1\u001b[0m \u001b[0mSpam\u001b[0m \u001b[0;34m=\u001b[0m \u001b[0;36m12\u001b[0m\u001b[0;34m\u001b[0m\u001b[0;34m\u001b[0m\u001b[0m\n\u001b[0;32m----> 2\u001b[0;31m \u001b[0mprint\u001b[0m\u001b[0;34m(\u001b[0m\u001b[0mspam\u001b[0m\u001b[0;34m)\u001b[0m\u001b[0;34m\u001b[0m\u001b[0;34m\u001b[0m\u001b[0m\n\u001b[0m",
            "\u001b[0;31mNameError\u001b[0m: name 'spam' is not defined"
          ]
        }
      ]
    },
    {
      "cell_type": "markdown",
      "metadata": {
        "id": "bU4s5YpaXe5Q"
      },
      "source": [
        "## 2.2 Mnemonic variable names\n",
        "- Since we programmers are given a choice in how we choose our variable names, there is a bit of \"best practice\"\n",
        "- We name variables to help us remember what we intend to store in them (\"mnemonic\" = \"memory aid\")\n"
      ]
    },
    {
      "cell_type": "code",
      "metadata": {
        "id": "rwMx1Dn8Yhel",
        "colab": {
          "base_uri": "https://localhost:8080/"
        },
        "outputId": "b2e3ecf3-dcfd-4084-b14e-507f88caf50f"
      },
      "source": [
        "# Example 1\n",
        "xfcd1234 = 35.0\n",
        "cdfgihnm = 12.50\n",
        "xlq3456 = xfcd1234 * cdfgihnm\n",
        "print(xlq3456)"
      ],
      "execution_count": null,
      "outputs": [
        {
          "output_type": "stream",
          "name": "stdout",
          "text": [
            "437.5\n"
          ]
        }
      ]
    },
    {
      "cell_type": "code",
      "metadata": {
        "id": "TCMeShLSY5Fp",
        "colab": {
          "base_uri": "https://localhost:8080/"
        },
        "outputId": "4b410319-4bfb-4e3c-90b6-d86f5fa7103c"
      },
      "source": [
        "# Example 2\n",
        "a = 35.0\n",
        "b = 12.50\n",
        "c = a * b\n",
        "print(c)"
      ],
      "execution_count": null,
      "outputs": [
        {
          "output_type": "stream",
          "name": "stdout",
          "text": [
            "437.5\n"
          ]
        }
      ]
    },
    {
      "cell_type": "code",
      "metadata": {
        "id": "B9LJuHUfZFhc",
        "colab": {
          "base_uri": "https://localhost:8080/"
        },
        "outputId": "bff9efff-3031-4cb7-c58a-3ac3d8e7ad81"
      },
      "source": [
        "# Example 3\n",
        "hours = 35.0\n",
        "rate = 12.50\n",
        "pay = hours * rate\n",
        "print(pay)"
      ],
      "execution_count": null,
      "outputs": [
        {
          "output_type": "stream",
          "name": "stdout",
          "text": [
            "437.5\n"
          ]
        }
      ]
    },
    {
      "cell_type": "markdown",
      "metadata": {
        "id": "xT1g8xREZ3ET"
      },
      "source": [
        "## 2.3 Reserved words\n",
        "You cannot use **reserved words** as variable names/identifiers\n",
        "\n",
        "- **Reserved words examples:**\n",
        "\n",
        "False class return is finally\n",
        "\n",
        "None if for lambda continue\n",
        "\n",
        "True def from while nonlocal\n",
        "\n",
        "and del global not with\n",
        "\n",
        "as elif try or yield\n",
        "\n",
        "assert else import pass\n",
        "\n",
        "break except in raise\n",
        "\n"
      ]
    },
    {
      "cell_type": "code",
      "metadata": {
        "id": "ihi56HiqbD98"
      },
      "source": [
        "None = 12"
      ],
      "execution_count": null,
      "outputs": []
    },
    {
      "cell_type": "markdown",
      "metadata": {
        "id": "1r2QfK0tby5C"
      },
      "source": [
        "## 3. Sentences or lines\n",
        "\n",
        "x = 2 -------- Assignment statement\n",
        "\n",
        "x = x + 2 -------- Assignment with expression\n",
        "\n",
        "print(x) --------- Print statement\n",
        "\n",
        "- **Variable:** x\n",
        "- **Operator:** =, +\n",
        "- **Constant:** 2\n",
        "- **Function:** print()"
      ]
    },
    {
      "cell_type": "markdown",
      "metadata": {
        "id": "AdasHEeTcuj4"
      },
      "source": [
        "## 3.1 Assignment statements\n",
        "- We assign a value to a variable using the assignment statement (=)\n",
        "- An assignment statement consists of an **expression on the right-hand side** and a **variable** to store the result.\n",
        "\n",
        "x = 0.6 ---- A variable is a memory location used to store a value (0.6)\n",
        "\n",
        "x = 3.9 * x * (1-x) ----- The right side is an expression. Once the expression is evaluated, the result is placed in (assigned to) x."
      ]
    },
    {
      "cell_type": "code",
      "metadata": {
        "id": "GatJFhePdc57",
        "colab": {
          "base_uri": "https://localhost:8080/"
        },
        "outputId": "eb9004cc-dd20-48f8-d117-c072f5369d1b"
      },
      "source": [
        "# Example 1\n",
        "x = 0.6 \n",
        "x = 3.9 * x * (1-x) \n",
        "print(x)"
      ],
      "execution_count": null,
      "outputs": [
        {
          "output_type": "stream",
          "name": "stdout",
          "text": [
            "0.9359999999999999\n"
          ]
        }
      ]
    },
    {
      "cell_type": "markdown",
      "metadata": {
        "id": "cLXbP2LueZwi"
      },
      "source": [
        "You could notice, the value stored in a variable (x) is updated by replacing the old value (0.6) with a new value (0.936)."
      ]
    },
    {
      "cell_type": "markdown",
      "metadata": {
        "id": "sdrU3xipenDn"
      },
      "source": [
        "## 4. Expression\n",
        "- Because of the lack of mathematical symbols on computer keyboards - we use \"computer-speak\" to express the classic math operations\n",
        "- Asterisk is multiplication\n",
        "- Exponentiation (raise to a power) looks different than in math\n",
        "\n",
        "**+** --- Addition\n",
        "\n",
        "**-** --- Subtraction\n",
        "\n",
        "**$*$** --- Multiplication\n",
        "\n",
        "**/** --- Division\n",
        "\n",
        "**$**$** --- Power\n",
        "\n",
        "**%** --- Remainder"
      ]
    },
    {
      "cell_type": "code",
      "metadata": {
        "id": "F3siL_oMtUIJ",
        "colab": {
          "base_uri": "https://localhost:8080/"
        },
        "outputId": "deb58564-8e9f-4658-e4fe-925bbc40c8e2"
      },
      "source": [
        "# Example 1\n",
        "x = 2\n",
        "x = x + 2\n",
        "print(x)"
      ],
      "execution_count": null,
      "outputs": [
        {
          "output_type": "stream",
          "name": "stdout",
          "text": [
            "4\n"
          ]
        }
      ]
    },
    {
      "cell_type": "code",
      "metadata": {
        "id": "3C51fg-jtfT0",
        "colab": {
          "base_uri": "https://localhost:8080/"
        },
        "outputId": "f02059d5-f7a0-4511-9cbb-9f213a17521e"
      },
      "source": [
        "# Example 2\n",
        "y = 440 * 12\n",
        "print(y)"
      ],
      "execution_count": null,
      "outputs": [
        {
          "output_type": "stream",
          "name": "stdout",
          "text": [
            "5280\n"
          ]
        }
      ]
    },
    {
      "cell_type": "code",
      "metadata": {
        "id": "sQt-9mU_tkU9",
        "colab": {
          "base_uri": "https://localhost:8080/"
        },
        "outputId": "332e95b6-6ecd-41d8-de5c-abba8382fab6"
      },
      "source": [
        "# Example 3\n",
        "z = y / 1000\n",
        "print(z)"
      ],
      "execution_count": null,
      "outputs": [
        {
          "output_type": "stream",
          "name": "stdout",
          "text": [
            "5.28\n"
          ]
        }
      ]
    },
    {
      "cell_type": "code",
      "metadata": {
        "id": "MLHRWMSLtuce",
        "colab": {
          "base_uri": "https://localhost:8080/"
        },
        "outputId": "8fbddeba-4c5e-4803-c7f3-43cfc3616787"
      },
      "source": [
        "# Example 4\n",
        "j = 23\n",
        "k = j % 5\n",
        "print(k)"
      ],
      "execution_count": null,
      "outputs": [
        {
          "output_type": "stream",
          "name": "stdout",
          "text": [
            "3\n"
          ]
        }
      ]
    },
    {
      "cell_type": "markdown",
      "metadata": {
        "id": "uUvM9ApCKG2k"
      },
      "source": [
        "##4.1 Order of Evaluation\n",
        "- When we string operators together - Python must know which one to do first\n",
        "- This is called **\"operator precedence\"**\n",
        "- Which operator \"takes precedence\" over the others?\n",
        "\n",
        "Highest precedence rule to lowest precedence rule:\n",
        "- Parentheses are always respected\n",
        "- Exponentiation (raise to a power)\n",
        "- Multiplication, division, and remainder\n",
        "- Addition and subtraction\n",
        "- Left to right"
      ]
    },
    {
      "cell_type": "code",
      "metadata": {
        "id": "kNtB-JohLH6R",
        "colab": {
          "base_uri": "https://localhost:8080/"
        },
        "outputId": "fe2c0075-78a2-4469-865f-2c5adea57ca9"
      },
      "source": [
        "# Example 1\n",
        "x = 1 + (2 ** 3) / 4 * 5\n",
        "print(x)"
      ],
      "execution_count": null,
      "outputs": [
        {
          "output_type": "stream",
          "name": "stdout",
          "text": [
            "11.0\n"
          ]
        }
      ]
    },
    {
      "cell_type": "markdown",
      "metadata": {
        "id": "8xfzfdswLZGo"
      },
      "source": [
        "Best practice:\n",
        "- Remember the rules\n",
        "- When writing code - use parentheses\n",
        "- When writing code - keep mathematical expressions simple enough that they are easy to understand\n",
        "- Break long series of mathematical operations up to make them more clear"
      ]
    },
    {
      "cell_type": "markdown",
      "metadata": {
        "id": "IdtWksbqNpls"
      },
      "source": [
        "## 5.Type\n",
        "- In Python variables, literals, and constants have a **\"type\"**\n",
        "- Python knows the **difference** between an integer number and a string\n",
        "- For example **\"+\"** means \"addition\" if something is a number and \"concatenate\" if something is a string"
      ]
    },
    {
      "cell_type": "code",
      "metadata": {
        "id": "eisCt-DaOgrS",
        "colab": {
          "base_uri": "https://localhost:8080/"
        },
        "outputId": "7b8f3d28-6be9-4c77-dfb0-10c6f517b293"
      },
      "source": [
        "# Example\n",
        "stringname = \"hello \" + \"there\"\n",
        "print(stringname)"
      ],
      "execution_count": null,
      "outputs": [
        {
          "output_type": "stream",
          "name": "stdout",
          "text": [
            "hello there\n"
          ]
        }
      ]
    },
    {
      "cell_type": "markdown",
      "metadata": {
        "id": "dGFFhqWsOSPe"
      },
      "source": [
        "## 5.1 Type matters\n",
        "- Python knows what \"type\" everything is \n",
        "- Some operations are prohibited\n",
        "- **You cannot \"add 1\" to a string**\n",
        "- We can ask Python what type something is by using the **type()** function\n"
      ]
    },
    {
      "cell_type": "code",
      "metadata": {
        "id": "w8UrUG2aPCFt",
        "colab": {
          "base_uri": "https://localhost:8080/",
          "height": 200
        },
        "outputId": "67091443-e419-43f5-c0ab-9be893d6d2a4"
      },
      "source": [
        "# Example 1\n",
        "stringnumber = 'hello' + 1\n",
        "print(stringnumber)"
      ],
      "execution_count": null,
      "outputs": [
        {
          "output_type": "error",
          "ename": "TypeError",
          "evalue": "ignored",
          "traceback": [
            "\u001b[0;31m---------------------------------------------------------------------------\u001b[0m",
            "\u001b[0;31mTypeError\u001b[0m                                 Traceback (most recent call last)",
            "\u001b[0;32m<ipython-input-14-49c073aaeb77>\u001b[0m in \u001b[0;36m<module>\u001b[0;34m()\u001b[0m\n\u001b[1;32m      1\u001b[0m \u001b[0;31m# Example 1\u001b[0m\u001b[0;34m\u001b[0m\u001b[0;34m\u001b[0m\u001b[0;34m\u001b[0m\u001b[0m\n\u001b[0;32m----> 2\u001b[0;31m \u001b[0mstringnumber\u001b[0m \u001b[0;34m=\u001b[0m \u001b[0;34m'hello'\u001b[0m \u001b[0;34m+\u001b[0m \u001b[0;36m1\u001b[0m\u001b[0;34m\u001b[0m\u001b[0;34m\u001b[0m\u001b[0m\n\u001b[0m\u001b[1;32m      3\u001b[0m \u001b[0mprint\u001b[0m\u001b[0;34m(\u001b[0m\u001b[0mstringnumber\u001b[0m\u001b[0;34m)\u001b[0m\u001b[0;34m\u001b[0m\u001b[0;34m\u001b[0m\u001b[0m\n",
            "\u001b[0;31mTypeError\u001b[0m: can only concatenate str (not \"int\") to str"
          ]
        }
      ]
    },
    {
      "cell_type": "code",
      "metadata": {
        "id": "zs-AruGqPR1D",
        "colab": {
          "base_uri": "https://localhost:8080/"
        },
        "outputId": "d8268621-e3a3-4af3-df6f-f7e469d52824"
      },
      "source": [
        "# Example 2\n",
        "stringnumber = 'hello' + '1'\n",
        "print(stringnumber)"
      ],
      "execution_count": null,
      "outputs": [
        {
          "output_type": "stream",
          "name": "stdout",
          "text": [
            "hello1\n"
          ]
        }
      ]
    },
    {
      "cell_type": "code",
      "metadata": {
        "id": "QQKI3v3vPXW0",
        "colab": {
          "base_uri": "https://localhost:8080/"
        },
        "outputId": "820a9bfd-4e39-4226-efff-0b152539a725"
      },
      "source": [
        "# Example 3\n",
        "type(stringnumber)"
      ],
      "execution_count": null,
      "outputs": [
        {
          "output_type": "execute_result",
          "data": {
            "text/plain": [
              "str"
            ]
          },
          "metadata": {},
          "execution_count": 16
        }
      ]
    },
    {
      "cell_type": "markdown",
      "metadata": {
        "id": "x-gBnNxsOc09"
      },
      "source": [
        "## 5.2 Several types of numbers\n",
        "Numbers have two main types:\n",
        "- **Integers** are whole numbers: -14, -2, 0, 1, 100\n",
        "- **Floating Point Numbers** have decimal parts: -2.5, 0.0, 98.6, 14.0\n",
        "- There are other number types - they are variations on float and integer "
      ]
    },
    {
      "cell_type": "code",
      "metadata": {
        "id": "ZzwJVA6AQYgJ",
        "colab": {
          "base_uri": "https://localhost:8080/"
        },
        "outputId": "aba35bf1-0e84-4578-a3cc-e23f0c41940d"
      },
      "source": [
        "# Example 1\n",
        "x = 0.04\n",
        "type(x)"
      ],
      "execution_count": null,
      "outputs": [
        {
          "output_type": "execute_result",
          "data": {
            "text/plain": [
              "float"
            ]
          },
          "metadata": {},
          "execution_count": 17
        }
      ]
    },
    {
      "cell_type": "code",
      "metadata": {
        "id": "o6SRdrIsQfGA",
        "colab": {
          "base_uri": "https://localhost:8080/"
        },
        "outputId": "c38de1b3-029d-4f3c-9e78-55a6a08e97dc"
      },
      "source": [
        "# Example 2\n",
        "x = 4\n",
        "type(x)"
      ],
      "execution_count": null,
      "outputs": [
        {
          "output_type": "execute_result",
          "data": {
            "text/plain": [
              "int"
            ]
          },
          "metadata": {},
          "execution_count": 18
        }
      ]
    },
    {
      "cell_type": "markdown",
      "metadata": {
        "id": "Rc2wu79LQtsH"
      },
      "source": [
        "## 5.3 Numeric type conversions\n",
        "- When you put an integer and floating point in an expression, the integer is implicitly converted to a float\n",
        "- You can control this with the built-in functions int() and float()"
      ]
    },
    {
      "cell_type": "code",
      "metadata": {
        "id": "YBjCMYAGREZh",
        "colab": {
          "base_uri": "https://localhost:8080/"
        },
        "outputId": "a70406cd-3932-4a66-e11d-56a55b5a9eb4"
      },
      "source": [
        "# Example 1\n",
        "a = 42 + 54.3\n",
        "print(a)\n",
        "type(a)"
      ],
      "execution_count": null,
      "outputs": [
        {
          "output_type": "stream",
          "name": "stdout",
          "text": [
            "96.3\n"
          ]
        },
        {
          "output_type": "execute_result",
          "data": {
            "text/plain": [
              "float"
            ]
          },
          "metadata": {},
          "execution_count": 19
        }
      ]
    },
    {
      "cell_type": "code",
      "metadata": {
        "id": "_z97jO-rROyR",
        "colab": {
          "base_uri": "https://localhost:8080/"
        },
        "outputId": "2a21a36e-d0d7-4f6e-ed6a-4f5114dbac2a"
      },
      "source": [
        "# Example 2\n",
        "a = float(42)\n",
        "print(a)\n",
        "type(a)"
      ],
      "execution_count": null,
      "outputs": [
        {
          "output_type": "stream",
          "name": "stdout",
          "text": [
            "42.0\n"
          ]
        },
        {
          "output_type": "execute_result",
          "data": {
            "text/plain": [
              "float"
            ]
          },
          "metadata": {},
          "execution_count": 20
        }
      ]
    },
    {
      "cell_type": "code",
      "metadata": {
        "id": "BJWtk49-RUd9",
        "colab": {
          "base_uri": "https://localhost:8080/"
        },
        "outputId": "409ceb23-84a4-4b73-b4b8-4eed0f56f6e9"
      },
      "source": [
        "# Example 2\n",
        "a = int(45.6)\n",
        "print(a)\n",
        "type(a)"
      ],
      "execution_count": null,
      "outputs": [
        {
          "output_type": "stream",
          "name": "stdout",
          "text": [
            "45\n"
          ]
        },
        {
          "output_type": "execute_result",
          "data": {
            "text/plain": [
              "int"
            ]
          },
          "metadata": {},
          "execution_count": 21
        }
      ]
    },
    {
      "cell_type": "markdown",
      "metadata": {
        "id": "rcQKqOSJR0kU"
      },
      "source": [
        "For integer division produces a floating point result. Note this was different in Python 2.x\n"
      ]
    },
    {
      "cell_type": "code",
      "metadata": {
        "id": "HG6OtXTNR_aw",
        "colab": {
          "base_uri": "https://localhost:8080/"
        },
        "outputId": "6e5fd6a6-5eb5-459b-ad04-555bb7ef49e7"
      },
      "source": [
        "# Example 1\n",
        "a = 10 / 2\n",
        "print(a)\n",
        "type(a)"
      ],
      "execution_count": null,
      "outputs": [
        {
          "output_type": "stream",
          "name": "stdout",
          "text": [
            "5.0\n"
          ]
        },
        {
          "output_type": "execute_result",
          "data": {
            "text/plain": [
              "float"
            ]
          },
          "metadata": {},
          "execution_count": 22
        }
      ]
    },
    {
      "cell_type": "markdown",
      "metadata": {
        "id": "qzKm5sv3SGrR"
      },
      "source": [
        "##5.4 String conversions\n",
        "- You can also use **int()** and **float** to convert between strings and integers\n",
        "- You will get an **error** if the string does not contain numeric characters"
      ]
    },
    {
      "cell_type": "code",
      "metadata": {
        "id": "xmJ6Lhs3TRiX",
        "colab": {
          "base_uri": "https://localhost:8080/"
        },
        "outputId": "696e7c86-b25f-4aa6-db73-32af35cda3fe"
      },
      "source": [
        "# Example 1\n",
        "a = '123'\n",
        "b = int(a)\n",
        "print(b)\n",
        "type(b)"
      ],
      "execution_count": null,
      "outputs": [
        {
          "output_type": "stream",
          "name": "stdout",
          "text": [
            "123\n"
          ]
        },
        {
          "output_type": "execute_result",
          "data": {
            "text/plain": [
              "int"
            ]
          },
          "metadata": {},
          "execution_count": 23
        }
      ]
    },
    {
      "cell_type": "code",
      "metadata": {
        "id": "whIBXKZ3Tm99",
        "colab": {
          "base_uri": "https://localhost:8080/",
          "height": 235
        },
        "outputId": "4b160c7b-8793-4fcd-9c2e-e888aac56180"
      },
      "source": [
        "# Example 1\n",
        "a = '123' + 'abc'\n",
        "b = int(a)\n",
        "print(b)\n",
        "type(b)"
      ],
      "execution_count": null,
      "outputs": [
        {
          "output_type": "error",
          "ename": "ValueError",
          "evalue": "ignored",
          "traceback": [
            "\u001b[0;31m---------------------------------------------------------------------------\u001b[0m",
            "\u001b[0;31mValueError\u001b[0m                                Traceback (most recent call last)",
            "\u001b[0;32m<ipython-input-24-e0faec8a59b0>\u001b[0m in \u001b[0;36m<module>\u001b[0;34m()\u001b[0m\n\u001b[1;32m      1\u001b[0m \u001b[0;31m# Example 1\u001b[0m\u001b[0;34m\u001b[0m\u001b[0;34m\u001b[0m\u001b[0;34m\u001b[0m\u001b[0m\n\u001b[1;32m      2\u001b[0m \u001b[0ma\u001b[0m \u001b[0;34m=\u001b[0m \u001b[0;34m'123'\u001b[0m \u001b[0;34m+\u001b[0m \u001b[0;34m'abc'\u001b[0m\u001b[0;34m\u001b[0m\u001b[0;34m\u001b[0m\u001b[0m\n\u001b[0;32m----> 3\u001b[0;31m \u001b[0mb\u001b[0m \u001b[0;34m=\u001b[0m \u001b[0mint\u001b[0m\u001b[0;34m(\u001b[0m\u001b[0ma\u001b[0m\u001b[0;34m)\u001b[0m\u001b[0;34m\u001b[0m\u001b[0;34m\u001b[0m\u001b[0m\n\u001b[0m\u001b[1;32m      4\u001b[0m \u001b[0mprint\u001b[0m\u001b[0;34m(\u001b[0m\u001b[0mb\u001b[0m\u001b[0;34m)\u001b[0m\u001b[0;34m\u001b[0m\u001b[0;34m\u001b[0m\u001b[0m\n\u001b[1;32m      5\u001b[0m \u001b[0mtype\u001b[0m\u001b[0;34m(\u001b[0m\u001b[0mb\u001b[0m\u001b[0;34m)\u001b[0m\u001b[0;34m\u001b[0m\u001b[0;34m\u001b[0m\u001b[0m\n",
            "\u001b[0;31mValueError\u001b[0m: invalid literal for int() with base 10: '123abc'"
          ]
        }
      ]
    },
    {
      "cell_type": "markdown",
      "metadata": {
        "id": "ZV9nGQhMV3eM"
      },
      "source": [
        "## Best practice\n",
        "Do comment\n",
        "- Describe what is going to happen in a sequence of code\n",
        "- Document who wrote the code or other ancillary information\n",
        "- Turn off a line of code - perhaps temporarily"
      ]
    },
    {
      "cell_type": "markdown",
      "metadata": {
        "id": "CpIauyuCYGfI"
      },
      "source": [
        "Reference: http://www.dr-chuck.com/"
      ]
    }
  ]
}