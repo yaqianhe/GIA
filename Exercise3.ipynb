{
  "nbformat": 4,
  "nbformat_minor": 0,
  "metadata": {
    "colab": {
      "name": "Exercise3.ipynb",
      "provenance": [],
      "collapsed_sections": [],
      "authorship_tag": "ABX9TyOOdeBxS5ryJdr91GZEEziG",
      "include_colab_link": true
    },
    "kernelspec": {
      "name": "python3",
      "display_name": "Python 3"
    }
  },
  "cells": [
    {
      "cell_type": "markdown",
      "metadata": {
        "id": "view-in-github",
        "colab_type": "text"
      },
      "source": [
        "<a href=\"https://colab.research.google.com/github/yaqianhe/GIA/blob/main/Exercise3.ipynb\" target=\"_parent\"><img src=\"https://colab.research.google.com/assets/colab-badge.svg\" alt=\"Open In Colab\"/></a>"
      ]
    },
    {
      "cell_type": "markdown",
      "metadata": {
        "id": "xQuCDFhve84G"
      },
      "source": [
        "## Exercise 3\r\n",
        "A student's score is 700 points. According to the criteria, if a score is less than 680 points, she/he will get a 'B', otherwise she/he will get a 'A'. Design a program to determine what grade the student can get?\r\n",
        "You will need to define a variable for the student's score and then use conditional execution to decide the final grade"
      ]
    },
    {
      "cell_type": "code",
      "metadata": {
        "colab": {
          "base_uri": "https://localhost:8080/"
        },
        "id": "XU8C350RhHeV",
        "outputId": "6de5ea81-a054-4512-c311-c402d6f3dc6d"
      },
      "source": [
        "# (1) This is the example code, you need to modify the variable name for your own\r\n",
        "# (2) You also want to define the variable name as mnemonic variable\r\n",
        "\r\n",
        "x=700 # define the student's score\r\n",
        "if x > 680:\r\n",
        "  print(\"A\")\r\n",
        "else:\r\n",
        "  print(\"B\")\r\n",
        "print(\"All Done\")"
      ],
      "execution_count": 2,
      "outputs": [
        {
          "output_type": "stream",
          "text": [
            "A\n",
            "All Done\n"
          ],
          "name": "stdout"
        }
      ]
    }
  ]
}